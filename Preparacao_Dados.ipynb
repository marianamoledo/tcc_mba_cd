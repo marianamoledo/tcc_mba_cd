{
  "nbformat": 4,
  "nbformat_minor": 0,
  "metadata": {
    "colab": {
      "provenance": [],
      "authorship_tag": "ABX9TyOl72zkdsJNwR2HatBvrYhV",
      "include_colab_link": true
    },
    "kernelspec": {
      "name": "python3",
      "display_name": "Python 3"
    },
    "language_info": {
      "name": "python"
    }
  },
  "cells": [
    {
      "cell_type": "markdown",
      "metadata": {
        "id": "view-in-github",
        "colab_type": "text"
      },
      "source": [
        "<a href=\"https://colab.research.google.com/github/marianamoledomoreira/tcc_mba_cd/blob/main/Preparacao_Dados.ipynb\" target=\"_parent\"><img src=\"https://colab.research.google.com/assets/colab-badge.svg\" alt=\"Open In Colab\"/></a>"
      ]
    },
    {
      "cell_type": "code",
      "execution_count": null,
      "metadata": {
        "id": "Zw0jURRCjJBM"
      },
      "outputs": [],
      "source": [
        "import pandas as pd\n"
      ]
    },
    {
      "cell_type": "code",
      "source": [
        "# Carregando o arquivo\n",
        "df = pd.read_excel('Dataset-UFF-Graduacao.xlsx')"
      ],
      "metadata": {
        "id": "jbARdfxfjRcQ"
      },
      "execution_count": null,
      "outputs": []
    },
    {
      "cell_type": "code",
      "source": [
        "# Removendo a linha que contém \"ACAOAFIRMATIVA\" na coluna \"ACAOAFIRMATIVA\"\n",
        "df = df[df['ACAOAFIRMATIVA'] != \"ACAOAFIRMATIVA\"]\n",
        "\n",
        "# Filtrando os alunos que possuem \"STATUSFORMACAO\" igual a \"EVADIDO\"\n",
        "df_evadidos = df[df['STATUSFORMACAO'] == \"EVADIDO\"]"
      ],
      "metadata": {
        "id": "MzC5QGj8jU-F"
      },
      "execution_count": null,
      "outputs": []
    },
    {
      "cell_type": "code",
      "source": [
        "# Removendo duplicatas com base na coluna \"CODALUNO\"\n",
        "df_sem_duplicatas = df_evadidos.drop_duplicates(subset='CODALUNO')"
      ],
      "metadata": {
        "id": "juHiMHJLjWk7"
      },
      "execution_count": null,
      "outputs": []
    },
    {
      "cell_type": "code",
      "source": [
        "# Carregando o arquivo de cursos\n",
        "df_cursos_iduff = pd.read_excel('C:/Users/Mariana Moledo/Documents/GitHub/tcc_mba_cd/datasets/CURSOS_IDUFF.xlsx')\n",
        "df_cursos_iduff = df_cursos_iduff.rename(columns={\"IDCURSO\": \"CURSO\", \"NOME\": \"NOME_CURSO\"})\n",
        "df_cursos_iduff = df_cursos_iduff[['CURSO', 'NOME_CURSO']]\n",
        "df_cursos_iduff['NOME_CURSO'] = df_cursos_iduff['NOME_CURSO'].str.upper()\n",
        "df_cursos_iduff.shape"
      ],
      "metadata": {
        "id": "KIfEDzDUjYQK"
      },
      "execution_count": null,
      "outputs": []
    },
    {
      "cell_type": "code",
      "source": [
        "# Mesclando os DataFrames com base na coluna \"CURSO\"\n",
        "df_join_cursos_iduff = df_sem_duplicatas.merge(df_cursos_iduff, on='CURSO')"
      ],
      "metadata": {
        "id": "KFPpDQxCjZqr"
      },
      "execution_count": null,
      "outputs": []
    },
    {
      "cell_type": "code",
      "source": [
        "df_join_cursos_iduff.shape\n",
        "valores_nulos = df_join_cursos_iduff['NOME_CURSO'].isnull()\n",
        "quantidade_nulos = valores_nulos.sum()\n",
        "print(quantidade_nulos)"
      ],
      "metadata": {
        "id": "x4lQ1AYjjcYF"
      },
      "execution_count": null,
      "outputs": []
    },
    {
      "cell_type": "code",
      "source": [
        "# Carregando o arquivo CSV de classificação de cursos\n",
        "df_curso = pd.read_csv(\"Classificacao_cursos.csv\", sep=';', encoding='latin-1')"
      ],
      "metadata": {
        "id": "95bZhpaQjea9"
      },
      "execution_count": null,
      "outputs": []
    },
    {
      "cell_type": "code",
      "source": [
        "# Mesclando os DataFrames com base na coluna \"NOME_CURSO\"\n",
        "df_join_area_curso = df_join_cursos_iduff.merge(df_curso, on='NOME_CURSO',how='outer')\n",
        "df_join_area_curso.shape"
      ],
      "metadata": {
        "id": "Rl7BMfVbjiFR"
      },
      "execution_count": null,
      "outputs": []
    },
    {
      "cell_type": "code",
      "source": [
        "df_join_area_curso = df_join_area_curso.rename(columns={\"Classificação\": \"AREACURSO\"})\n",
        "df_geral = df_join_area_curso\n",
        "\n",
        "df_geral.shape"
      ],
      "metadata": {
        "id": "oc6mCbHjjigT"
      },
      "execution_count": null,
      "outputs": []
    },
    {
      "cell_type": "code",
      "source": [
        "file_path = \"datasets/bd_alunos_evadidos.csv\"\n",
        "df_geral.to_csv(file_path, sep=\";\")"
      ],
      "metadata": {
        "id": "3sk5w2UHjjZ-"
      },
      "execution_count": null,
      "outputs": []
    }
  ]
}