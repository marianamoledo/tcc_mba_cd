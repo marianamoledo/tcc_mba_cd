{
 "cells": [
  {
   "attachments": {},
   "cell_type": "markdown",
   "metadata": {},
   "source": [
    "*Perguntas (Respondidas)*\n",
    "\n",
    "- Quais cursos tem mais evasão? Os cursos que mais tiveram evasão foram os cursos 20, 25 e 21.\n",
    "- A maior parte das evasões são referentes a qual ação afirmativa? Alunos da Ampla concorrência evadiram mais do que as outras categorias.\n",
    "- Qual a proporção de evasão por sexo? Homens evadiram mais do que mulheres.\n",
    "- Qual a proporção de evasão por status civil? Solteiros Evadem mais do que casados.\n",
    "- Qual turno ocorre mais evasão? O turno com mais evasão foi o integral. *Será que o CR pode indicar alguma coisa? Turno integral costuma ser mais difícil? A galera que evadiu do turno integral a maior parte era casada ou solteira?*\n",
    "- Qual a proporção de evasão por ano? O ano com mais evasão foram dos alunos que entraram em 2013. *Será que tem a ver com a data que extraímos a base?*\n",
    "\n",
    "\n",
    "*Perguntas (Não Respondidas)*\n",
    "\n",
    "- Entender correlação entre as variáveis.\n",
    "    Tempo de permanencia e CR tem correlação?\n",
    "    CHCURSADA e CR tem correlacao?\n",
    "- Plotar alguns gráficos pra visualizar melhor os aprendizados.\n",
    "- A maioria dos alunos evadem em qual semestre?\n",
    "- Qual a idade com maior evasão?\n",
    "- Os alunos que evadem possuem em média qual tempo de permanência? Qual a mediana? Temos outliers? Como é a distribuição dos dados?"
   ]
  },
  {
   "attachments": {},
   "cell_type": "markdown",
   "metadata": {},
   "source": [
    "\n",
    "*Possível estudo*: Prever se um aluno vai evadir em um determinado período de tempo com essas variáveis? Variáveis que que possam influenciar o risco de evasão dos alunos: CR, o curso, o sexo, o status civil, turno e a idade."
   ]
  },
  {
   "cell_type": "code",
   "execution_count": 51,
   "metadata": {},
   "outputs": [],
   "source": [
    "import pandas as pd\n",
    "import matplotlib.pyplot as plt\n",
    "import seaborn as sns\n",
    "import numpy as np"
   ]
  },
  {
   "cell_type": "code",
   "execution_count": 52,
   "metadata": {},
   "outputs": [],
   "source": [
    "df = pd.read_excel ('C:/Users/Mariana Moledo/Documents/Dataset-UFF-Graduacao.xlsx')\n"
   ]
  },
  {
   "attachments": {},
   "cell_type": "markdown",
   "metadata": {},
   "source": [
    "# Geral"
   ]
  },
  {
   "cell_type": "code",
   "execution_count": 53,
   "metadata": {},
   "outputs": [
    {
     "data": {
      "text/html": [
       "<div>\n",
       "<style scoped>\n",
       "    .dataframe tbody tr th:only-of-type {\n",
       "        vertical-align: middle;\n",
       "    }\n",
       "\n",
       "    .dataframe tbody tr th {\n",
       "        vertical-align: top;\n",
       "    }\n",
       "\n",
       "    .dataframe thead th {\n",
       "        text-align: right;\n",
       "    }\n",
       "</style>\n",
       "<table border=\"1\" class=\"dataframe\">\n",
       "  <thead>\n",
       "    <tr style=\"text-align: right;\">\n",
       "      <th></th>\n",
       "      <th>CODALUNO</th>\n",
       "      <th>ACAOAFIRMATIVA</th>\n",
       "      <th>ENEMLINGUAGEM</th>\n",
       "      <th>ENEMHUMANAS</th>\n",
       "      <th>ENEMNATURAIS</th>\n",
       "      <th>ENEMMATEMATICA</th>\n",
       "      <th>ENEMREDACAO</th>\n",
       "      <th>CURSO</th>\n",
       "      <th>CODTURNOINGRESSO</th>\n",
       "      <th>CODTURNOATUAL</th>\n",
       "      <th>...</th>\n",
       "      <th>BAIRRO</th>\n",
       "      <th>CEP</th>\n",
       "      <th>CIDADE</th>\n",
       "      <th>MOBILIDADE</th>\n",
       "      <th>CHCURSADA</th>\n",
       "      <th>ESTADOCIVIL</th>\n",
       "      <th>TRANCAMENTOS</th>\n",
       "      <th>TEMPOPERMANENCIA</th>\n",
       "      <th>SEXO</th>\n",
       "      <th>STATUSFORMACAO</th>\n",
       "    </tr>\n",
       "  </thead>\n",
       "  <tbody>\n",
       "    <tr>\n",
       "      <th>0</th>\n",
       "      <td>112001027</td>\n",
       "      <td>AC</td>\n",
       "      <td>602.70</td>\n",
       "      <td>544.60</td>\n",
       "      <td>533.30</td>\n",
       "      <td>623.10</td>\n",
       "      <td>780.00</td>\n",
       "      <td>1</td>\n",
       "      <td>8</td>\n",
       "      <td>8</td>\n",
       "      <td>...</td>\n",
       "      <td>MUMBUCA</td>\n",
       "      <td>NÃO DECLARADO</td>\n",
       "      <td>MARICÁ</td>\n",
       "      <td>0</td>\n",
       "      <td>2780</td>\n",
       "      <td>SOLTEIRO</td>\n",
       "      <td>0</td>\n",
       "      <td>5</td>\n",
       "      <td>F</td>\n",
       "      <td>FORMADO</td>\n",
       "    </tr>\n",
       "    <tr>\n",
       "      <th>1</th>\n",
       "      <td>112001027</td>\n",
       "      <td>AC</td>\n",
       "      <td>602.70</td>\n",
       "      <td>544.60</td>\n",
       "      <td>533.30</td>\n",
       "      <td>623.10</td>\n",
       "      <td>780.00</td>\n",
       "      <td>1</td>\n",
       "      <td>8</td>\n",
       "      <td>8</td>\n",
       "      <td>...</td>\n",
       "      <td>MUMBUCA</td>\n",
       "      <td>NÃO DECLARADO</td>\n",
       "      <td>MARICÁ</td>\n",
       "      <td>0</td>\n",
       "      <td>2780</td>\n",
       "      <td>SOLTEIRO</td>\n",
       "      <td>0</td>\n",
       "      <td>5</td>\n",
       "      <td>F</td>\n",
       "      <td>FORMADO</td>\n",
       "    </tr>\n",
       "    <tr>\n",
       "      <th>2</th>\n",
       "      <td>112001027</td>\n",
       "      <td>AC</td>\n",
       "      <td>602.70</td>\n",
       "      <td>544.60</td>\n",
       "      <td>533.30</td>\n",
       "      <td>623.10</td>\n",
       "      <td>780.00</td>\n",
       "      <td>1</td>\n",
       "      <td>8</td>\n",
       "      <td>8</td>\n",
       "      <td>...</td>\n",
       "      <td>MUMBUCA</td>\n",
       "      <td>NÃO DECLARADO</td>\n",
       "      <td>MARICÁ</td>\n",
       "      <td>0</td>\n",
       "      <td>2780</td>\n",
       "      <td>SOLTEIRO</td>\n",
       "      <td>0</td>\n",
       "      <td>5</td>\n",
       "      <td>F</td>\n",
       "      <td>FORMADO</td>\n",
       "    </tr>\n",
       "    <tr>\n",
       "      <th>3</th>\n",
       "      <td>112001027</td>\n",
       "      <td>AC</td>\n",
       "      <td>602.70</td>\n",
       "      <td>544.60</td>\n",
       "      <td>533.30</td>\n",
       "      <td>623.10</td>\n",
       "      <td>780.00</td>\n",
       "      <td>1</td>\n",
       "      <td>8</td>\n",
       "      <td>8</td>\n",
       "      <td>...</td>\n",
       "      <td>MUMBUCA</td>\n",
       "      <td>NÃO DECLARADO</td>\n",
       "      <td>MARICÁ</td>\n",
       "      <td>0</td>\n",
       "      <td>2780</td>\n",
       "      <td>SOLTEIRO</td>\n",
       "      <td>0</td>\n",
       "      <td>5</td>\n",
       "      <td>F</td>\n",
       "      <td>FORMADO</td>\n",
       "    </tr>\n",
       "    <tr>\n",
       "      <th>4</th>\n",
       "      <td>112001027</td>\n",
       "      <td>AC</td>\n",
       "      <td>602.70</td>\n",
       "      <td>544.60</td>\n",
       "      <td>533.30</td>\n",
       "      <td>623.10</td>\n",
       "      <td>780.00</td>\n",
       "      <td>1</td>\n",
       "      <td>8</td>\n",
       "      <td>8</td>\n",
       "      <td>...</td>\n",
       "      <td>MUMBUCA</td>\n",
       "      <td>NÃO DECLARADO</td>\n",
       "      <td>MARICÁ</td>\n",
       "      <td>0</td>\n",
       "      <td>2780</td>\n",
       "      <td>SOLTEIRO</td>\n",
       "      <td>0</td>\n",
       "      <td>5</td>\n",
       "      <td>F</td>\n",
       "      <td>FORMADO</td>\n",
       "    </tr>\n",
       "  </tbody>\n",
       "</table>\n",
       "<p>5 rows × 32 columns</p>\n",
       "</div>"
      ],
      "text/plain": [
       "    CODALUNO ACAOAFIRMATIVA ENEMLINGUAGEM ENEMHUMANAS ENEMNATURAIS  \\\n",
       "0  112001027             AC        602.70      544.60       533.30   \n",
       "1  112001027             AC        602.70      544.60       533.30   \n",
       "2  112001027             AC        602.70      544.60       533.30   \n",
       "3  112001027             AC        602.70      544.60       533.30   \n",
       "4  112001027             AC        602.70      544.60       533.30   \n",
       "\n",
       "  ENEMMATEMATICA ENEMREDACAO CURSO CODTURNOINGRESSO CODTURNOATUAL  ...  \\\n",
       "0         623.10      780.00     1                8             8  ...   \n",
       "1         623.10      780.00     1                8             8  ...   \n",
       "2         623.10      780.00     1                8             8  ...   \n",
       "3         623.10      780.00     1                8             8  ...   \n",
       "4         623.10      780.00     1                8             8  ...   \n",
       "\n",
       "    BAIRRO            CEP  CIDADE MOBILIDADE CHCURSADA ESTADOCIVIL  \\\n",
       "0  MUMBUCA  NÃO DECLARADO  MARICÁ          0      2780    SOLTEIRO   \n",
       "1  MUMBUCA  NÃO DECLARADO  MARICÁ          0      2780    SOLTEIRO   \n",
       "2  MUMBUCA  NÃO DECLARADO  MARICÁ          0      2780    SOLTEIRO   \n",
       "3  MUMBUCA  NÃO DECLARADO  MARICÁ          0      2780    SOLTEIRO   \n",
       "4  MUMBUCA  NÃO DECLARADO  MARICÁ          0      2780    SOLTEIRO   \n",
       "\n",
       "  TRANCAMENTOS TEMPOPERMANENCIA SEXO STATUSFORMACAO  \n",
       "0            0                5    F        FORMADO  \n",
       "1            0                5    F        FORMADO  \n",
       "2            0                5    F        FORMADO  \n",
       "3            0                5    F        FORMADO  \n",
       "4            0                5    F        FORMADO  \n",
       "\n",
       "[5 rows x 32 columns]"
      ]
     },
     "execution_count": 53,
     "metadata": {},
     "output_type": "execute_result"
    }
   ],
   "source": [
    "df.head()"
   ]
  },
  {
   "cell_type": "code",
   "execution_count": 54,
   "metadata": {},
   "outputs": [
    {
     "data": {
      "text/plain": [
       "(281431, 32)"
      ]
     },
     "execution_count": 54,
     "metadata": {},
     "output_type": "execute_result"
    }
   ],
   "source": [
    "# Tamanho do DataFrame\n",
    "df.shape"
   ]
  },
  {
   "cell_type": "code",
   "execution_count": 55,
   "metadata": {},
   "outputs": [
    {
     "name": "stdout",
     "output_type": "stream",
     "text": [
      "Index(['CODALUNO', 'ACAOAFIRMATIVA', 'ENEMLINGUAGEM', 'ENEMHUMANAS',\n",
      "       'ENEMNATURAIS', 'ENEMMATEMATICA', 'ENEMREDACAO', 'CURSO',\n",
      "       'CODTURNOINGRESSO', 'CODTURNOATUAL', 'TURNOATUAL', 'CR', 'DISCIPLINA',\n",
      "       'NOTADISC', 'RESULTDISC', 'PERIODODISC', 'ANOINGRESSO',\n",
      "       'SEMESTREINGRESSO', 'ANODESVINCULACAO', 'SEMESTREDESVINCULACAO',\n",
      "       'IDADE', 'COR', 'BAIRRO', 'CEP', 'CIDADE', 'MOBILIDADE', 'CHCURSADA',\n",
      "       'ESTADOCIVIL', 'TRANCAMENTOS', 'TEMPOPERMANENCIA', 'SEXO',\n",
      "       'STATUSFORMACAO'],\n",
      "      dtype='object')\n"
     ]
    }
   ],
   "source": [
    "print(df.columns)"
   ]
  },
  {
   "cell_type": "code",
   "execution_count": 56,
   "metadata": {},
   "outputs": [],
   "source": [
    "df = df.drop(['DISCIPLINA','NOTADISC','RESULTDISC', 'PERIODODISC'], axis=1)"
   ]
  },
  {
   "cell_type": "code",
   "execution_count": 57,
   "metadata": {},
   "outputs": [
    {
     "name": "stdout",
     "output_type": "stream",
     "text": [
      "Index(['CODALUNO', 'ACAOAFIRMATIVA', 'ENEMLINGUAGEM', 'ENEMHUMANAS',\n",
      "       'ENEMNATURAIS', 'ENEMMATEMATICA', 'ENEMREDACAO', 'CURSO',\n",
      "       'CODTURNOINGRESSO', 'CODTURNOATUAL', 'TURNOATUAL', 'CR', 'ANOINGRESSO',\n",
      "       'SEMESTREINGRESSO', 'ANODESVINCULACAO', 'SEMESTREDESVINCULACAO',\n",
      "       'IDADE', 'COR', 'BAIRRO', 'CEP', 'CIDADE', 'MOBILIDADE', 'CHCURSADA',\n",
      "       'ESTADOCIVIL', 'TRANCAMENTOS', 'TEMPOPERMANENCIA', 'SEXO',\n",
      "       'STATUSFORMACAO'],\n",
      "      dtype='object')\n"
     ]
    }
   ],
   "source": [
    "print(df.columns)"
   ]
  },
  {
   "cell_type": "code",
   "execution_count": 58,
   "metadata": {},
   "outputs": [
    {
     "data": {
      "text/html": [
       "<div>\n",
       "<style scoped>\n",
       "    .dataframe tbody tr th:only-of-type {\n",
       "        vertical-align: middle;\n",
       "    }\n",
       "\n",
       "    .dataframe tbody tr th {\n",
       "        vertical-align: top;\n",
       "    }\n",
       "\n",
       "    .dataframe thead th {\n",
       "        text-align: right;\n",
       "    }\n",
       "</style>\n",
       "<table border=\"1\" class=\"dataframe\">\n",
       "  <thead>\n",
       "    <tr style=\"text-align: right;\">\n",
       "      <th></th>\n",
       "      <th>CODALUNO</th>\n",
       "      <th>ACAOAFIRMATIVA</th>\n",
       "      <th>ENEMLINGUAGEM</th>\n",
       "      <th>ENEMHUMANAS</th>\n",
       "      <th>ENEMNATURAIS</th>\n",
       "      <th>ENEMMATEMATICA</th>\n",
       "      <th>ENEMREDACAO</th>\n",
       "      <th>CURSO</th>\n",
       "      <th>CODTURNOINGRESSO</th>\n",
       "      <th>CODTURNOATUAL</th>\n",
       "      <th>...</th>\n",
       "      <th>BAIRRO</th>\n",
       "      <th>CEP</th>\n",
       "      <th>CIDADE</th>\n",
       "      <th>MOBILIDADE</th>\n",
       "      <th>CHCURSADA</th>\n",
       "      <th>ESTADOCIVIL</th>\n",
       "      <th>TRANCAMENTOS</th>\n",
       "      <th>TEMPOPERMANENCIA</th>\n",
       "      <th>SEXO</th>\n",
       "      <th>STATUSFORMACAO</th>\n",
       "    </tr>\n",
       "  </thead>\n",
       "  <tbody>\n",
       "    <tr>\n",
       "      <th>0</th>\n",
       "      <td>112001027</td>\n",
       "      <td>AC</td>\n",
       "      <td>602.70</td>\n",
       "      <td>544.60</td>\n",
       "      <td>533.30</td>\n",
       "      <td>623.10</td>\n",
       "      <td>780.00</td>\n",
       "      <td>1</td>\n",
       "      <td>8</td>\n",
       "      <td>8</td>\n",
       "      <td>...</td>\n",
       "      <td>MUMBUCA</td>\n",
       "      <td>NÃO DECLARADO</td>\n",
       "      <td>MARICÁ</td>\n",
       "      <td>0</td>\n",
       "      <td>2780</td>\n",
       "      <td>SOLTEIRO</td>\n",
       "      <td>0</td>\n",
       "      <td>5</td>\n",
       "      <td>F</td>\n",
       "      <td>FORMADO</td>\n",
       "    </tr>\n",
       "    <tr>\n",
       "      <th>48</th>\n",
       "      <td>112001028</td>\n",
       "      <td>AC</td>\n",
       "      <td>616.90</td>\n",
       "      <td>620.20</td>\n",
       "      <td>564.30</td>\n",
       "      <td>605.10</td>\n",
       "      <td>700.00</td>\n",
       "      <td>1</td>\n",
       "      <td>8</td>\n",
       "      <td>8</td>\n",
       "      <td>...</td>\n",
       "      <td>NÃO DECLARADO</td>\n",
       "      <td>28695000</td>\n",
       "      <td>CACHOEIRAS DE MACACU</td>\n",
       "      <td>0</td>\n",
       "      <td>2915</td>\n",
       "      <td>SOLTEIRO</td>\n",
       "      <td>0</td>\n",
       "      <td>4</td>\n",
       "      <td>F</td>\n",
       "      <td>FORMADO</td>\n",
       "    </tr>\n",
       "    <tr>\n",
       "      <th>93</th>\n",
       "      <td>112001029</td>\n",
       "      <td>AC</td>\n",
       "      <td>628.90</td>\n",
       "      <td>598.20</td>\n",
       "      <td>580.50</td>\n",
       "      <td>702.40</td>\n",
       "      <td>620.00</td>\n",
       "      <td>1</td>\n",
       "      <td>8</td>\n",
       "      <td>8</td>\n",
       "      <td>...</td>\n",
       "      <td>FONSECA</td>\n",
       "      <td>24130</td>\n",
       "      <td>NITERÓI</td>\n",
       "      <td>0</td>\n",
       "      <td>2770</td>\n",
       "      <td>SOLTEIRO</td>\n",
       "      <td>0</td>\n",
       "      <td>4</td>\n",
       "      <td>F</td>\n",
       "      <td>FORMADO</td>\n",
       "    </tr>\n",
       "    <tr>\n",
       "      <th>135</th>\n",
       "      <td>112001030</td>\n",
       "      <td>AC</td>\n",
       "      <td>591.20</td>\n",
       "      <td>561.40</td>\n",
       "      <td>519.20</td>\n",
       "      <td>662.80</td>\n",
       "      <td>760.00</td>\n",
       "      <td>1</td>\n",
       "      <td>8</td>\n",
       "      <td>8</td>\n",
       "      <td>...</td>\n",
       "      <td>PONTA DA AREIA</td>\n",
       "      <td>24040010</td>\n",
       "      <td>NITERÓI</td>\n",
       "      <td>0</td>\n",
       "      <td>2900</td>\n",
       "      <td>CASADO</td>\n",
       "      <td>0</td>\n",
       "      <td>5</td>\n",
       "      <td>F</td>\n",
       "      <td>FORMADO</td>\n",
       "    </tr>\n",
       "    <tr>\n",
       "      <th>174</th>\n",
       "      <td>112001031</td>\n",
       "      <td>AC</td>\n",
       "      <td>611.40</td>\n",
       "      <td>596.30</td>\n",
       "      <td>559.80</td>\n",
       "      <td>615.70</td>\n",
       "      <td>800.00</td>\n",
       "      <td>1</td>\n",
       "      <td>8</td>\n",
       "      <td>8</td>\n",
       "      <td>...</td>\n",
       "      <td>PENDOTIBA</td>\n",
       "      <td>24320240</td>\n",
       "      <td>NITERÓI</td>\n",
       "      <td>0</td>\n",
       "      <td>2890</td>\n",
       "      <td>SOLTEIRO</td>\n",
       "      <td>0</td>\n",
       "      <td>4</td>\n",
       "      <td>F</td>\n",
       "      <td>FORMADO</td>\n",
       "    </tr>\n",
       "  </tbody>\n",
       "</table>\n",
       "<p>5 rows × 28 columns</p>\n",
       "</div>"
      ],
      "text/plain": [
       "      CODALUNO ACAOAFIRMATIVA ENEMLINGUAGEM ENEMHUMANAS ENEMNATURAIS  \\\n",
       "0    112001027             AC        602.70      544.60       533.30   \n",
       "48   112001028             AC        616.90      620.20       564.30   \n",
       "93   112001029             AC        628.90      598.20       580.50   \n",
       "135  112001030             AC        591.20      561.40       519.20   \n",
       "174  112001031             AC        611.40      596.30       559.80   \n",
       "\n",
       "    ENEMMATEMATICA ENEMREDACAO CURSO CODTURNOINGRESSO CODTURNOATUAL  ...  \\\n",
       "0           623.10      780.00     1                8             8  ...   \n",
       "48          605.10      700.00     1                8             8  ...   \n",
       "93          702.40      620.00     1                8             8  ...   \n",
       "135         662.80      760.00     1                8             8  ...   \n",
       "174         615.70      800.00     1                8             8  ...   \n",
       "\n",
       "             BAIRRO            CEP                CIDADE MOBILIDADE CHCURSADA  \\\n",
       "0           MUMBUCA  NÃO DECLARADO                MARICÁ          0      2780   \n",
       "48    NÃO DECLARADO       28695000  CACHOEIRAS DE MACACU          0      2915   \n",
       "93          FONSECA          24130               NITERÓI          0      2770   \n",
       "135  PONTA DA AREIA       24040010               NITERÓI          0      2900   \n",
       "174       PENDOTIBA       24320240               NITERÓI          0      2890   \n",
       "\n",
       "    ESTADOCIVIL TRANCAMENTOS TEMPOPERMANENCIA SEXO STATUSFORMACAO  \n",
       "0      SOLTEIRO            0                5    F        FORMADO  \n",
       "48     SOLTEIRO            0                4    F        FORMADO  \n",
       "93     SOLTEIRO            0                4    F        FORMADO  \n",
       "135      CASADO            0                5    F        FORMADO  \n",
       "174    SOLTEIRO            0                4    F        FORMADO  \n",
       "\n",
       "[5 rows x 28 columns]"
      ]
     },
     "execution_count": 58,
     "metadata": {},
     "output_type": "execute_result"
    }
   ],
   "source": [
    "# Removendo as duplicatas\n",
    "df = df.drop_duplicates(subset=['CODALUNO'], keep = 'first')\n",
    "df.head()"
   ]
  },
  {
   "cell_type": "code",
   "execution_count": 59,
   "metadata": {},
   "outputs": [
    {
     "data": {
      "text/plain": [
       "(12953, 28)"
      ]
     },
     "execution_count": 59,
     "metadata": {},
     "output_type": "execute_result"
    }
   ],
   "source": [
    "df.shape"
   ]
  },
  {
   "cell_type": "code",
   "execution_count": 60,
   "metadata": {},
   "outputs": [
    {
     "data": {
      "text/plain": [
       "CODALUNO                 object\n",
       "ACAOAFIRMATIVA           object\n",
       "ENEMLINGUAGEM            object\n",
       "ENEMHUMANAS              object\n",
       "ENEMNATURAIS             object\n",
       "ENEMMATEMATICA           object\n",
       "ENEMREDACAO              object\n",
       "CURSO                    object\n",
       "CODTURNOINGRESSO         object\n",
       "CODTURNOATUAL            object\n",
       "TURNOATUAL               object\n",
       "CR                       object\n",
       "ANOINGRESSO              object\n",
       "SEMESTREINGRESSO         object\n",
       "ANODESVINCULACAO         object\n",
       "SEMESTREDESVINCULACAO    object\n",
       "IDADE                    object\n",
       "COR                      object\n",
       "BAIRRO                   object\n",
       "CEP                      object\n",
       "CIDADE                   object\n",
       "MOBILIDADE               object\n",
       "CHCURSADA                object\n",
       "ESTADOCIVIL              object\n",
       "TRANCAMENTOS             object\n",
       "TEMPOPERMANENCIA         object\n",
       "SEXO                     object\n",
       "STATUSFORMACAO           object\n",
       "dtype: object"
      ]
     },
     "execution_count": 60,
     "metadata": {},
     "output_type": "execute_result"
    }
   ],
   "source": [
    "df.dtypes"
   ]
  },
  {
   "cell_type": "code",
   "execution_count": 61,
   "metadata": {},
   "outputs": [
    {
     "data": {
      "text/plain": [
       "CODALUNO                     0\n",
       "ACAOAFIRMATIVA               0\n",
       "ENEMLINGUAGEM                0\n",
       "ENEMHUMANAS                  0\n",
       "ENEMNATURAIS                 0\n",
       "ENEMMATEMATICA               0\n",
       "ENEMREDACAO                  0\n",
       "CURSO                        0\n",
       "CODTURNOINGRESSO             0\n",
       "CODTURNOATUAL                0\n",
       "TURNOATUAL                  14\n",
       "CR                           0\n",
       "ANOINGRESSO                  0\n",
       "SEMESTREINGRESSO             0\n",
       "ANODESVINCULACAO             0\n",
       "SEMESTREDESVINCULACAO        0\n",
       "IDADE                        0\n",
       "COR                          0\n",
       "BAIRRO                       0\n",
       "CEP                      10502\n",
       "CIDADE                       0\n",
       "MOBILIDADE                   0\n",
       "CHCURSADA                    0\n",
       "ESTADOCIVIL                  0\n",
       "TRANCAMENTOS                 0\n",
       "TEMPOPERMANENCIA             0\n",
       "SEXO                         0\n",
       "STATUSFORMACAO               2\n",
       "dtype: int64"
      ]
     },
     "execution_count": 61,
     "metadata": {},
     "output_type": "execute_result"
    }
   ],
   "source": [
    "df.isna().sum()"
   ]
  },
  {
   "cell_type": "code",
   "execution_count": 62,
   "metadata": {},
   "outputs": [
    {
     "name": "stdout",
     "output_type": "stream",
     "text": [
      "<class 'pandas.core.frame.DataFrame'>\n",
      "Int64Index: 12953 entries, 0 to 281430\n",
      "Data columns (total 28 columns):\n",
      " #   Column                 Non-Null Count  Dtype \n",
      "---  ------                 --------------  ----- \n",
      " 0   CODALUNO               12953 non-null  object\n",
      " 1   ACAOAFIRMATIVA         12953 non-null  object\n",
      " 2   ENEMLINGUAGEM          12953 non-null  object\n",
      " 3   ENEMHUMANAS            12953 non-null  object\n",
      " 4   ENEMNATURAIS           12953 non-null  object\n",
      " 5   ENEMMATEMATICA         12953 non-null  object\n",
      " 6   ENEMREDACAO            12953 non-null  object\n",
      " 7   CURSO                  12953 non-null  object\n",
      " 8   CODTURNOINGRESSO       12953 non-null  object\n",
      " 9   CODTURNOATUAL          12953 non-null  object\n",
      " 10  TURNOATUAL             12939 non-null  object\n",
      " 11  CR                     12953 non-null  object\n",
      " 12  ANOINGRESSO            12953 non-null  object\n",
      " 13  SEMESTREINGRESSO       12953 non-null  object\n",
      " 14  ANODESVINCULACAO       12953 non-null  object\n",
      " 15  SEMESTREDESVINCULACAO  12953 non-null  object\n",
      " 16  IDADE                  12953 non-null  object\n",
      " 17  COR                    12953 non-null  object\n",
      " 18  BAIRRO                 12953 non-null  object\n",
      " 19  CEP                    2451 non-null   object\n",
      " 20  CIDADE                 12953 non-null  object\n",
      " 21  MOBILIDADE             12953 non-null  object\n",
      " 22  CHCURSADA              12953 non-null  object\n",
      " 23  ESTADOCIVIL            12953 non-null  object\n",
      " 24  TRANCAMENTOS           12953 non-null  object\n",
      " 25  TEMPOPERMANENCIA       12953 non-null  object\n",
      " 26  SEXO                   12953 non-null  object\n",
      " 27  STATUSFORMACAO         12951 non-null  object\n",
      "dtypes: object(28)\n",
      "memory usage: 2.9+ MB\n"
     ]
    }
   ],
   "source": [
    "df.info()"
   ]
  },
  {
   "cell_type": "code",
   "execution_count": 63,
   "metadata": {},
   "outputs": [
    {
     "name": "stdout",
     "output_type": "stream",
     "text": [
      "['FORMADO' 'EVADIDO' nan 'STATUSFORMACAO']\n"
     ]
    }
   ],
   "source": [
    "print(df['STATUSFORMACAO'].unique())"
   ]
  },
  {
   "cell_type": "code",
   "execution_count": 64,
   "metadata": {},
   "outputs": [
    {
     "name": "stdout",
     "output_type": "stream",
     "text": [
      "['7.1' '8.4' '9.2' 8 '8.2' '6.7' '1.36' '8.9' '1.3' '4.4' 0 '7.5' '1.86'\n",
      " '8.8' '3.7' '4.3' 3 '9.1' '7.8' '9.6' '7.6' 5 '3.46' '3.8' '8.21' 1 '7.9'\n",
      " '0.48' '8.6' '7.03' '5.3' '4.8' 7 '4.6' '2.36' '3.6' '3.4' '3.1' '4.1'\n",
      " '0.62' '3.37' '0.44' '8.5' '2.1' '3.2' '8.1' '1.17' '9.4' '1.78' '7.74'\n",
      " '3.31' '8.3' '8.18' '5.24' '1.71' '1.66' 9 '0.84' '0.78' '8.7' '2.3'\n",
      " '8.26' '9.3' 4 '7.4' '6.19' '7.7' '6.79' '3.52' '6.9' '4.02' '7.3' '4.5'\n",
      " '7.2' '6.3' '1.14' '4.7' '3.3' '3.89' '2.15' '3.44' '2.24' '4.43' '5.7'\n",
      " '9.7' 6 '5.1' '4.89' '7.29' '6.61' '4.62' '6.1' '5.52' '5.33' '3.9' '2.4'\n",
      " '5.85' '2.7' '2.93' '0.64' '6.11' '4.76' '1.62' '5.9' '6.8' '6.6' '1.77'\n",
      " '2.64' '2.01' '6.56' '4.26' '5.86' '3.75' '2.83' '7.23' '1.7' '1.84'\n",
      " '2.07' '1.22' '3.05' '2.44' '8.57' '4.01' '3.77' '4.85' '0.3' '1.2' '0.7'\n",
      " '4.2' '5.2' '3.85' '2.8' '6.29' '5.06' '7.96' '6.15' '6.5' '2.22' '5.8'\n",
      " '6.43' '1.88' '1.9' '6.84' '3.5' '2.9' '1.68' '7.47' '2.2' '9.8' '5.75'\n",
      " '6.2' '0.2' '8.58' '4.21' '2.6' '5.5' '7.46' '3.24' '7.83' '5.57' '5.03'\n",
      " '0.22' '1.41' '8.77' '0.89' '2.42' '1.19' '5.46' '1.93' '6.53' '5.31'\n",
      " '1.8' '4.32' '0.98' '1.4' '5.45' '3.13' '2.77' '2.96' '5.6' '7.01' '5.13'\n",
      " '2.69' '2.54' '0.03' '6.99' '5.87' '5.91' '0.53' '8.03' '7.56' 2 '8.47'\n",
      " '2.74' '3.57' '0.96' '0.95' '1.82' '3.32' '4.49' '1.25' '3.16' '7.43'\n",
      " '1.44' '3.96' '2.94' '0.12' '4.9' '5.47' '4.59' '1.38' '2.53' '3.91'\n",
      " '0.67' '1.23' '6.97' '0.17' '1.56' '1.73' '2.11' '6.09' '4.33' '2.59'\n",
      " '2.76' '5.88' '4.66' '7.87' '2.97' '4.24' '4.38' '6.02' '5.59' '3.58'\n",
      " '3.83' '2.79' '2.55' '5.26' '5.39' '3.35' '3.11' '0.58' '6.65' '3.18'\n",
      " '3.33' '3.87' '3.21' '0.05' '5.4' '4.27' '7.32' '1.69' '5.07' '6.85'\n",
      " '9.5' '6.4' '3.78' '5.48' '7.16' '1.54' '7.62' '1.46' '4.19' '1.5' '5.01'\n",
      " '7.18' '4.96' '4.83' '4.07' '3.04' '2.61' '6.42' '2.88' '3.26' '0.45'\n",
      " '4.51' '6.83' '3.38' '2.46' '0.26' '7.84' '1.57' '1.35' '0.59' '0.4'\n",
      " '6.93' '6.44' '0.5' '9.03' '4.35' '7.88' '0.38' '4.17' '7.25' '7.26'\n",
      " '1.75' '3.47' '0.29' '4.79' '7.05' '1.37' '0.68' '2.91' '8.67' '5.96'\n",
      " '2.78' '5.94' '2.99' '0.54' '3.84' '7.33' '7.94' '1.67' '2.58' '7.22'\n",
      " '5.77' '0.57' '4.36' '1.65' '7.19' '0.23' '8.17' '3.06' '5.21' '4.39'\n",
      " '9.36' '8.34' '3.08' '6.49' '0.25' '7.98' '2.14' '8.13' '1.42' '3.65'\n",
      " '0.72' '1.89' '4.18' '0.82' '0.8' '5.27' '0.28' '3.25' '1.94' '3.62'\n",
      " '2.16' '0.34' '1.39' '0.91' '0.77' '4.46' '1.45' '1.79' '4.95' '5.25'\n",
      " '2.38' '7.09' '0.87' '6.31' '0.19' '0.18' '6.47' '1.72' '2.5' '1.98'\n",
      " '1.28' '1.24' '2.85' '2.19' '4.28' '2.48' '5.95' '4.47' '8.85' '6.66'\n",
      " '5.02' '3.15' '6.01' '7.63' '2.34' '6.94' '3.61' '9.05' '4.41' '0.85'\n",
      " '8.88' '7.17' '7.72' '4.34' '5.78' '4.57' '3.98' '4.03' '6.25' '2.45'\n",
      " '4.92' '6.12' '7.82' '8.01' '2.32' '6.38' '1.74' '7.86' '3.19' '3.72'\n",
      " '4.06' '1.6' '3.54' '1.11' '1.59' '3.55' '0.93' '0.97' '1.92' '1.15'\n",
      " '6.63' '6.67' '1.85' '0.65' '0.76' '2.75' '7.13' '7.73' '6.45' '2.92'\n",
      " '0.06' '0.75' '0.55' '8.64' '0.36' '1.27' '7.45' '7.51' '0.32' '1.32'\n",
      " '0.47' '6.07' '8.75' '7.34' '5.89' '2.87' '5.09' '8.04' '7.31' '3.56'\n",
      " '0.73' '1.12' '8.86' '9.27' '6.75' '0.79' '8.89' '9.45' '8.76' '9.32'\n",
      " '8.81' '8.19' '6.16' '0.9' '9.17' '8.92' '7.11' '7.54' '8.55' '8.91'\n",
      " '8.25' '9.04' '8.78' '5.93' '8.63' '4.53' '6.39' '1.61' '7.58' '9.01'\n",
      " '0.63' '3.09' '6.82' '3.66' '0.41' '3.42' '4.12' '1.09' '1.83' '0.08'\n",
      " '2.06' '3.27' '3.07' '4.48' '1.58' '0.33' '0.13' '4.64' '2.51' '1.43'\n",
      " '4.71' '0.56' '3.43' '4.67' '1.03' '5.23' '6.13' '1.26' '3.23' '1.34'\n",
      " '4.78' '6.62' '8.11' '0.46' '6.24' '5.68' '5.58' '8.06' '8.62' '5.16'\n",
      " '9.34' '4.23' '8.08' '3.29' '4.29' '9.16' '8.28' '3.51' '5.32' '3.99'\n",
      " '6.28' '0.69' '1.47' '0.52' '2.49' '6.87' '4.44' '7.55' '0.6' '0.21'\n",
      " '3.94' '6.26' '4.93' '2.39' '8.05' '0.49' '0.99' '6.78' '0.04' '4.22'\n",
      " '6.48' '3.53' '3.59' '7.77' '6.23' '0.74' '1.29' '4.87' '5.99' '8.65'\n",
      " '6.81' '7.89' '4.31' '6.76' '7.12' '2.84' '6.77' '8.38' '8.52' '6.92'\n",
      " '7.14' '6.32' '8.22' '8.15' '7.79' '0.24' '0.86' '6.64' '8.48' '2.98'\n",
      " '5.54' '2.52' '4.54' '5.44' '2.18' '6.08' '8.42' '5.66' '4.45' '3.67'\n",
      " '5.73' '3.39' '2.82' '8.33' '4.05' '7.27' '6.04' '5.61' '4.68' '0.37'\n",
      " '6.36' '5.05' '5.29' '5.34' '6.22' '1.31' '7.39' '4.13' '7.21' '7.92'\n",
      " '4.65' '7.24' '1.18' '6.06' '2.31' '5.41' '8.07' '3.92' '4.52' '2.43'\n",
      " '3.48' '6.14' '3.71' '4.61' '3.64' '4.98' '2.13' '3.17' '6.55' '5.76'\n",
      " '1.01' '1.64' '0.81' '5.36' '6.21' '6.51' '7.99' '6.41' '5.98' '7.69'\n",
      " '5.51' '1.81' '1.1' '3.69' '6.89' '0.42' '6.96' '1.97' '9.15' '7.44'\n",
      " '1.53' '4.11' '5.37' '6.74' '5.82' '7.08' '7.42' '8.95' '8.36' '1.16'\n",
      " '8.41' '5.72' '8.29' '1.91' '6.72' '6.17' '4.56' '6.69' '7.71' '3.76'\n",
      " '7.91' '5.15' '7.76' '1.49' '0.1' '5.43' '1.96' '2.35' '2.73' '4.97'\n",
      " '1.33' '5.84' '1.08' '3.34' '6.35' '4.94' '5.49' '5.12' '9.25' '9.02'\n",
      " '6.88' '8.53' '5.65' '8.49' '0.51' '2.89' '0.31' '7.38' '8.43' '8.87'\n",
      " '8.59' '8.98' '3.02' '2.12' '3.81' '9.19' '8.02' '6.03' '2.65' '4.04'\n",
      " '5.55' '3.73' '9.13' '4.16' '1.21' '7.61' '1.07' '7.41' '5.17' '8.69'\n",
      " '5.14' '8.39' '7.53' '6.86' '8.51' '4.81' '4.74' '2.95' '2.28' '3.93'\n",
      " '0.11' '8.14' '8.31' '0.94' '7.66' '8.96' '9.14' '6.59' '8.45' '3.63'\n",
      " '7.95' '7.36' '7.81' '8.16' '1.95' '0.83' '8.23' '2.66' '0.43' '2.86'\n",
      " '0.07' '0.16' '2.57' '9.24' '4.25' 10 '1.48' '7.48' '6.91' '2.26' '0.15'\n",
      " '4.73' '3.49' '4.37' '3.97' '6.46' '8.09' '7.35' '8.74' '7.75' '3.22'\n",
      " '3.01' '1.87' '8.72' '6.33' '6.95' '7.93' '5.62' '8.35' '7.37' '7.57'\n",
      " '4.14' '8.61' '5.71' '2.81' '3.14' '4.84' '1.13' '7.67' '2.56' '2.25'\n",
      " '5.63' '1.99' '6.27' '8.99' '0.88' '3.45' '7.07' '4.72' '5.08' '9.47'\n",
      " '6.18' '0.39' '8.79' '7.59' '5.22' '6.73' '8.66' '0.14' '3.41' '6.98'\n",
      " '8.24' '7.15' '7.68' '8.83' '6.37' '0.92' '5.56' '2.21' '0.71' '9.39'\n",
      " '5.28' '2.71' '5.64' '1.06' '2.47' '2.08' '4.55' '4.15' '7.02' '2.23'\n",
      " '6.34' '7.85' '7.97' '5.38' '3.03' '5.74' '8.46' '9.35' '6.52' '1.52'\n",
      " '8.27' '5.92' '3.86' '9.56' '1.63' '0.61' '5.67' '6.57' '9.18' '8.56'\n",
      " '5.42' '9.43' '7.28' '5.04' '2.04' '2.17' '4.09' '2.09' '2.67' '7.52'\n",
      " '4.82' '2.68' '0.35' '2.37' '4.08' '9.12' '0.09' '2.29' '2.27' '1.51'\n",
      " '5.97' '4.63' '2.62' '0.66' '5.35' '6.05' '9.41' '9.51' '9.9' '1.02'\n",
      " '2.33' '4.75' '5.18' '1.05' '3.95' '7.78' '7.65' '4.58' '3.28' '5.53'\n",
      " '6.71' '9.42' '4.91' '2.03' '3.74' '1.76' '2.02' '9.63' '8.44' '6.58'\n",
      " '8.12' '4.69' '8.93' '3.79' '4.42' '6.54' '2.63' '7.06' '9.07' '0.27'\n",
      " '7.49' '9.09' 'CR']\n"
     ]
    }
   ],
   "source": [
    "print(df['CR'].unique())"
   ]
  },
  {
   "cell_type": "code",
   "execution_count": 65,
   "metadata": {},
   "outputs": [
    {
     "name": "stdout",
     "output_type": "stream",
     "text": [
      "         CODALUNO  ACAOAFIRMATIVA  ENEMLINGUAGEM  ENEMHUMANAS  ENEMNATURAIS  \\\n",
      "281430  MATRICULA  ACAOAFIRMATIVA  ENEMLINGUAGEM  ENEMHUMANAS  ENEMNATURAIS   \n",
      "\n",
      "        ENEMMATEMATICA  ENEMREDACAO  CURSO  CODTURNOINGRESSO  CODTURNOATUAL  \\\n",
      "281430  ENEMMATEMATICA  ENEMREDACAO  CURSO  CODTURNOINGRESSO  CODTURNOATUAL   \n",
      "\n",
      "        ...  BAIRRO  CEP  CIDADE  MOBILIDADE  CHCURSADA  ESTADOCIVIL  \\\n",
      "281430  ...  BAIRRO  CEP  CIDADE  MOBILIDADE  CHCURSADA  ESTADOCIVIL   \n",
      "\n",
      "        TRANCAMENTOS  TEMPOPERMANENCIA  SEXO  STATUSFORMACAO  \n",
      "281430  TRANCAMENTOS  TEMPOPERMANENCIA  SEXO  STATUSFORMACAO  \n",
      "\n",
      "[1 rows x 28 columns]\n"
     ]
    }
   ],
   "source": [
    "### Visualizando a última linha do df (ta zoado)\n",
    "ultima_linha = df.tail(n=1)\n",
    "print(ultima_linha)"
   ]
  },
  {
   "cell_type": "code",
   "execution_count": 66,
   "metadata": {},
   "outputs": [],
   "source": [
    "### Excluindo a última linha do df\n",
    "df = df.iloc[:-1].copy()"
   ]
  },
  {
   "cell_type": "code",
   "execution_count": 67,
   "metadata": {},
   "outputs": [
    {
     "name": "stdout",
     "output_type": "stream",
     "text": [
      "         CODALUNO ACAOAFIRMATIVA ENEMLINGUAGEM ENEMHUMANAS ENEMNATURAIS  \\\n",
      "281396  214107144             AC         611.8       645.7        584.7   \n",
      "\n",
      "       ENEMMATEMATICA ENEMREDACAO CURSO CODTURNOINGRESSO CODTURNOATUAL  ...  \\\n",
      "281396          623.9       760.0   562                4             4  ...   \n",
      "\n",
      "       BAIRRO       CEP       CIDADE MOBILIDADE CHCURSADA ESTADOCIVIL  \\\n",
      "281396  MUTUÁ  24461390  SÃO GONÇALO          0      1815      CASADO   \n",
      "\n",
      "       TRANCAMENTOS TEMPOPERMANENCIA SEXO STATUSFORMACAO  \n",
      "281396            0                4    F        FORMADO  \n",
      "\n",
      "[1 rows x 28 columns]\n"
     ]
    }
   ],
   "source": [
    "ultima_linha = df.tail(n=1)\n",
    "print(ultima_linha)"
   ]
  },
  {
   "cell_type": "code",
   "execution_count": 68,
   "metadata": {},
   "outputs": [
    {
     "data": {
      "text/plain": [
       "(12952, 28)"
      ]
     },
     "execution_count": 68,
     "metadata": {},
     "output_type": "execute_result"
    }
   ],
   "source": [
    "df.shape"
   ]
  },
  {
   "cell_type": "code",
   "execution_count": 69,
   "metadata": {},
   "outputs": [
    {
     "name": "stdout",
     "output_type": "stream",
     "text": [
      "STATUSFORMACAO\n",
      "EVADIDO    9836\n",
      "FORMADO    3114\n",
      "dtype: int64\n"
     ]
    }
   ],
   "source": [
    "contagem_status = df.groupby(['STATUSFORMACAO']).size()\n",
    "print(contagem_status)"
   ]
  },
  {
   "cell_type": "code",
   "execution_count": 70,
   "metadata": {},
   "outputs": [
    {
     "name": "stdout",
     "output_type": "stream",
     "text": [
      "CODALUNO                  object\n",
      "ACAOAFIRMATIVA            object\n",
      "ENEMLINGUAGEM            float64\n",
      "ENEMHUMANAS              float64\n",
      "ENEMNATURAIS             float64\n",
      "ENEMMATEMATICA           float64\n",
      "ENEMREDACAO              float64\n",
      "CURSO                     object\n",
      "CODTURNOINGRESSO          object\n",
      "CODTURNOATUAL             object\n",
      "TURNOATUAL                object\n",
      "CR                       float64\n",
      "ANOINGRESSO               object\n",
      "SEMESTREINGRESSO          object\n",
      "ANODESVINCULACAO         float64\n",
      "SEMESTREDESVINCULACAO     object\n",
      "IDADE                    float64\n",
      "COR                       object\n",
      "BAIRRO                    object\n",
      "CEP                       object\n",
      "CIDADE                    object\n",
      "MOBILIDADE                object\n",
      "CHCURSADA                float64\n",
      "ESTADOCIVIL               object\n",
      "TRANCAMENTOS              object\n",
      "TEMPOPERMANENCIA         float64\n",
      "SEXO                      object\n",
      "STATUSFORMACAO            object\n",
      "dtype: object\n"
     ]
    }
   ],
   "source": [
    "df['CR'] = df['CR'].astype(float)\n",
    "df['ENEMLINGUAGEM'] = df['ENEMLINGUAGEM'].astype(float)\n",
    "df['ENEMHUMANAS'] = df['ENEMHUMANAS'].astype(float)\n",
    "df['ENEMNATURAIS'] = df['ENEMNATURAIS'].astype(float)\n",
    "df['ENEMMATEMATICA'] = df['ENEMMATEMATICA'].astype(float)\n",
    "df['ENEMREDACAO'] = df['ENEMREDACAO'].astype(float)\n",
    "df['ANODESVINCULACAO'] = df['ANODESVINCULACAO'].astype(float)\n",
    "df['IDADE'] = df['IDADE'].astype(float)\n",
    "df['CHCURSADA'] = df['CHCURSADA'].astype(float)\n",
    "df['TEMPOPERMANENCIA'] = df['TEMPOPERMANENCIA'].astype(float)\n",
    "print(df.dtypes)"
   ]
  },
  {
   "cell_type": "code",
   "execution_count": 71,
   "metadata": {},
   "outputs": [
    {
     "data": {
      "text/plain": [
       "ACAOAFIRMATIVA\n",
       "A1      768\n",
       "AC    10302\n",
       "L1      296\n",
       "L2      693\n",
       "L3      233\n",
       "L4      660\n",
       "dtype: int64"
      ]
     },
     "execution_count": 71,
     "metadata": {},
     "output_type": "execute_result"
    }
   ],
   "source": [
    "df.groupby(['ACAOAFIRMATIVA']).size()"
   ]
  },
  {
   "cell_type": "code",
   "execution_count": 72,
   "metadata": {},
   "outputs": [
    {
     "name": "stderr",
     "output_type": "stream",
     "text": [
      "C:\\Users\\Mariana Moledo\\AppData\\Local\\Temp\\ipykernel_10680\\1428746082.py:1: FutureWarning: ['ACAOAFIRMATIVA', 'TURNOATUAL', 'COR', 'BAIRRO', 'CEP', 'CIDADE', 'ESTADOCIVIL', 'SEXO', 'STATUSFORMACAO'] did not aggregate successfully. If any error is raised this will raise in a future version of pandas. Drop these columns/ops to avoid this warning.\n",
      "  df.groupby(['TEMPOPERMANENCIA']).agg(['count', 'median'])\n"
     ]
    },
    {
     "data": {
      "text/html": [
       "<div>\n",
       "<style scoped>\n",
       "    .dataframe tbody tr th:only-of-type {\n",
       "        vertical-align: middle;\n",
       "    }\n",
       "\n",
       "    .dataframe tbody tr th {\n",
       "        vertical-align: top;\n",
       "    }\n",
       "\n",
       "    .dataframe thead tr th {\n",
       "        text-align: left;\n",
       "    }\n",
       "\n",
       "    .dataframe thead tr:last-of-type th {\n",
       "        text-align: right;\n",
       "    }\n",
       "</style>\n",
       "<table border=\"1\" class=\"dataframe\">\n",
       "  <thead>\n",
       "    <tr>\n",
       "      <th></th>\n",
       "      <th colspan=\"2\" halign=\"left\">CODALUNO</th>\n",
       "      <th colspan=\"2\" halign=\"left\">ENEMLINGUAGEM</th>\n",
       "      <th colspan=\"2\" halign=\"left\">ENEMHUMANAS</th>\n",
       "      <th colspan=\"2\" halign=\"left\">ENEMNATURAIS</th>\n",
       "      <th colspan=\"2\" halign=\"left\">ENEMMATEMATICA</th>\n",
       "      <th>...</th>\n",
       "      <th colspan=\"2\" halign=\"left\">SEMESTREDESVINCULACAO</th>\n",
       "      <th colspan=\"2\" halign=\"left\">IDADE</th>\n",
       "      <th colspan=\"2\" halign=\"left\">MOBILIDADE</th>\n",
       "      <th colspan=\"2\" halign=\"left\">CHCURSADA</th>\n",
       "      <th colspan=\"2\" halign=\"left\">TRANCAMENTOS</th>\n",
       "    </tr>\n",
       "    <tr>\n",
       "      <th></th>\n",
       "      <th>count</th>\n",
       "      <th>median</th>\n",
       "      <th>count</th>\n",
       "      <th>median</th>\n",
       "      <th>count</th>\n",
       "      <th>median</th>\n",
       "      <th>count</th>\n",
       "      <th>median</th>\n",
       "      <th>count</th>\n",
       "      <th>median</th>\n",
       "      <th>...</th>\n",
       "      <th>count</th>\n",
       "      <th>median</th>\n",
       "      <th>count</th>\n",
       "      <th>median</th>\n",
       "      <th>count</th>\n",
       "      <th>median</th>\n",
       "      <th>count</th>\n",
       "      <th>median</th>\n",
       "      <th>count</th>\n",
       "      <th>median</th>\n",
       "    </tr>\n",
       "    <tr>\n",
       "      <th>TEMPOPERMANENCIA</th>\n",
       "      <th></th>\n",
       "      <th></th>\n",
       "      <th></th>\n",
       "      <th></th>\n",
       "      <th></th>\n",
       "      <th></th>\n",
       "      <th></th>\n",
       "      <th></th>\n",
       "      <th></th>\n",
       "      <th></th>\n",
       "      <th></th>\n",
       "      <th></th>\n",
       "      <th></th>\n",
       "      <th></th>\n",
       "      <th></th>\n",
       "      <th></th>\n",
       "      <th></th>\n",
       "      <th></th>\n",
       "      <th></th>\n",
       "      <th></th>\n",
       "      <th></th>\n",
       "    </tr>\n",
       "  </thead>\n",
       "  <tbody>\n",
       "    <tr>\n",
       "      <th>1.0</th>\n",
       "      <td>3336</td>\n",
       "      <td>114045049.0</td>\n",
       "      <td>3336</td>\n",
       "      <td>599.30</td>\n",
       "      <td>3336</td>\n",
       "      <td>644.00</td>\n",
       "      <td>3336</td>\n",
       "      <td>587.00</td>\n",
       "      <td>3336</td>\n",
       "      <td>675.60</td>\n",
       "      <td>...</td>\n",
       "      <td>3336</td>\n",
       "      <td>2.0</td>\n",
       "      <td>3336</td>\n",
       "      <td>25.0</td>\n",
       "      <td>3336</td>\n",
       "      <td>0.0</td>\n",
       "      <td>3336</td>\n",
       "      <td>0.0</td>\n",
       "      <td>3336</td>\n",
       "      <td>0.0</td>\n",
       "    </tr>\n",
       "    <tr>\n",
       "      <th>2.0</th>\n",
       "      <td>1041</td>\n",
       "      <td>212068091.0</td>\n",
       "      <td>1041</td>\n",
       "      <td>599.20</td>\n",
       "      <td>1041</td>\n",
       "      <td>643.90</td>\n",
       "      <td>1041</td>\n",
       "      <td>591.30</td>\n",
       "      <td>1041</td>\n",
       "      <td>685.50</td>\n",
       "      <td>...</td>\n",
       "      <td>1041</td>\n",
       "      <td>1.0</td>\n",
       "      <td>1041</td>\n",
       "      <td>24.0</td>\n",
       "      <td>1041</td>\n",
       "      <td>0.0</td>\n",
       "      <td>1041</td>\n",
       "      <td>300.0</td>\n",
       "      <td>1041</td>\n",
       "      <td>0.0</td>\n",
       "    </tr>\n",
       "    <tr>\n",
       "      <th>3.0</th>\n",
       "      <td>1163</td>\n",
       "      <td>114051005.0</td>\n",
       "      <td>1163</td>\n",
       "      <td>601.50</td>\n",
       "      <td>1163</td>\n",
       "      <td>629.20</td>\n",
       "      <td>1163</td>\n",
       "      <td>584.50</td>\n",
       "      <td>1163</td>\n",
       "      <td>680.10</td>\n",
       "      <td>...</td>\n",
       "      <td>1163</td>\n",
       "      <td>1.0</td>\n",
       "      <td>1163</td>\n",
       "      <td>24.0</td>\n",
       "      <td>1163</td>\n",
       "      <td>0.0</td>\n",
       "      <td>1163</td>\n",
       "      <td>420.0</td>\n",
       "      <td>1163</td>\n",
       "      <td>0.0</td>\n",
       "    </tr>\n",
       "    <tr>\n",
       "      <th>4.0</th>\n",
       "      <td>2514</td>\n",
       "      <td>114051545.0</td>\n",
       "      <td>2514</td>\n",
       "      <td>600.25</td>\n",
       "      <td>2514</td>\n",
       "      <td>641.10</td>\n",
       "      <td>2514</td>\n",
       "      <td>585.35</td>\n",
       "      <td>2514</td>\n",
       "      <td>671.90</td>\n",
       "      <td>...</td>\n",
       "      <td>2514</td>\n",
       "      <td>1.0</td>\n",
       "      <td>2514</td>\n",
       "      <td>25.0</td>\n",
       "      <td>2514</td>\n",
       "      <td>0.0</td>\n",
       "      <td>2514</td>\n",
       "      <td>426.0</td>\n",
       "      <td>2514</td>\n",
       "      <td>0.0</td>\n",
       "    </tr>\n",
       "    <tr>\n",
       "      <th>5.0</th>\n",
       "      <td>3378</td>\n",
       "      <td>114061028.0</td>\n",
       "      <td>3378</td>\n",
       "      <td>602.40</td>\n",
       "      <td>3378</td>\n",
       "      <td>640.90</td>\n",
       "      <td>3378</td>\n",
       "      <td>588.10</td>\n",
       "      <td>3378</td>\n",
       "      <td>672.00</td>\n",
       "      <td>...</td>\n",
       "      <td>3378</td>\n",
       "      <td>1.0</td>\n",
       "      <td>3378</td>\n",
       "      <td>24.0</td>\n",
       "      <td>3378</td>\n",
       "      <td>0.0</td>\n",
       "      <td>3378</td>\n",
       "      <td>1906.0</td>\n",
       "      <td>3378</td>\n",
       "      <td>0.0</td>\n",
       "    </tr>\n",
       "    <tr>\n",
       "      <th>6.0</th>\n",
       "      <td>1358</td>\n",
       "      <td>113105069.5</td>\n",
       "      <td>1358</td>\n",
       "      <td>609.05</td>\n",
       "      <td>1358</td>\n",
       "      <td>633.75</td>\n",
       "      <td>1358</td>\n",
       "      <td>587.75</td>\n",
       "      <td>1358</td>\n",
       "      <td>677.95</td>\n",
       "      <td>...</td>\n",
       "      <td>1358</td>\n",
       "      <td>1.0</td>\n",
       "      <td>1358</td>\n",
       "      <td>25.0</td>\n",
       "      <td>1358</td>\n",
       "      <td>0.0</td>\n",
       "      <td>1358</td>\n",
       "      <td>2790.0</td>\n",
       "      <td>1358</td>\n",
       "      <td>0.0</td>\n",
       "    </tr>\n",
       "    <tr>\n",
       "      <th>7.0</th>\n",
       "      <td>162</td>\n",
       "      <td>162056104.5</td>\n",
       "      <td>162</td>\n",
       "      <td>608.95</td>\n",
       "      <td>162</td>\n",
       "      <td>577.90</td>\n",
       "      <td>162</td>\n",
       "      <td>566.95</td>\n",
       "      <td>162</td>\n",
       "      <td>662.95</td>\n",
       "      <td>...</td>\n",
       "      <td>162</td>\n",
       "      <td>1.0</td>\n",
       "      <td>162</td>\n",
       "      <td>26.0</td>\n",
       "      <td>162</td>\n",
       "      <td>0.0</td>\n",
       "      <td>162</td>\n",
       "      <td>1755.0</td>\n",
       "      <td>162</td>\n",
       "      <td>0.0</td>\n",
       "    </tr>\n",
       "  </tbody>\n",
       "</table>\n",
       "<p>7 rows × 36 columns</p>\n",
       "</div>"
      ],
      "text/plain": [
       "                 CODALUNO              ENEMLINGUAGEM         ENEMHUMANAS  \\\n",
       "                    count       median         count  median       count   \n",
       "TEMPOPERMANENCIA                                                           \n",
       "1.0                  3336  114045049.0          3336  599.30        3336   \n",
       "2.0                  1041  212068091.0          1041  599.20        1041   \n",
       "3.0                  1163  114051005.0          1163  601.50        1163   \n",
       "4.0                  2514  114051545.0          2514  600.25        2514   \n",
       "5.0                  3378  114061028.0          3378  602.40        3378   \n",
       "6.0                  1358  113105069.5          1358  609.05        1358   \n",
       "7.0                   162  162056104.5           162  608.95         162   \n",
       "\n",
       "                         ENEMNATURAIS         ENEMMATEMATICA          ...  \\\n",
       "                  median        count  median          count  median  ...   \n",
       "TEMPOPERMANENCIA                                                      ...   \n",
       "1.0               644.00         3336  587.00           3336  675.60  ...   \n",
       "2.0               643.90         1041  591.30           1041  685.50  ...   \n",
       "3.0               629.20         1163  584.50           1163  680.10  ...   \n",
       "4.0               641.10         2514  585.35           2514  671.90  ...   \n",
       "5.0               640.90         3378  588.10           3378  672.00  ...   \n",
       "6.0               633.75         1358  587.75           1358  677.95  ...   \n",
       "7.0               577.90          162  566.95            162  662.95  ...   \n",
       "\n",
       "                 SEMESTREDESVINCULACAO        IDADE        MOBILIDADE         \\\n",
       "                                 count median count median      count median   \n",
       "TEMPOPERMANENCIA                                                               \n",
       "1.0                               3336    2.0  3336   25.0       3336    0.0   \n",
       "2.0                               1041    1.0  1041   24.0       1041    0.0   \n",
       "3.0                               1163    1.0  1163   24.0       1163    0.0   \n",
       "4.0                               2514    1.0  2514   25.0       2514    0.0   \n",
       "5.0                               3378    1.0  3378   24.0       3378    0.0   \n",
       "6.0                               1358    1.0  1358   25.0       1358    0.0   \n",
       "7.0                                162    1.0   162   26.0        162    0.0   \n",
       "\n",
       "                 CHCURSADA         TRANCAMENTOS         \n",
       "                     count  median        count median  \n",
       "TEMPOPERMANENCIA                                        \n",
       "1.0                   3336     0.0         3336    0.0  \n",
       "2.0                   1041   300.0         1041    0.0  \n",
       "3.0                   1163   420.0         1163    0.0  \n",
       "4.0                   2514   426.0         2514    0.0  \n",
       "5.0                   3378  1906.0         3378    0.0  \n",
       "6.0                   1358  2790.0         1358    0.0  \n",
       "7.0                    162  1755.0          162    0.0  \n",
       "\n",
       "[7 rows x 36 columns]"
      ]
     },
     "execution_count": 72,
     "metadata": {},
     "output_type": "execute_result"
    }
   ],
   "source": [
    "df.groupby(['TEMPOPERMANENCIA']).agg(['count', 'median'])"
   ]
  },
  {
   "cell_type": "code",
   "execution_count": 73,
   "metadata": {},
   "outputs": [
    {
     "data": {
      "text/plain": [
       "ESTADOCIVIL\n",
       "CASADO        402\n",
       "SOLTEIRO    12550\n",
       "dtype: int64"
      ]
     },
     "execution_count": 73,
     "metadata": {},
     "output_type": "execute_result"
    }
   ],
   "source": [
    "df.groupby(['ESTADOCIVIL']).size()"
   ]
  },
  {
   "cell_type": "code",
   "execution_count": 74,
   "metadata": {},
   "outputs": [
    {
     "name": "stdout",
     "output_type": "stream",
     "text": [
      "['SOLTEIRO' 'CASADO']\n"
     ]
    }
   ],
   "source": [
    "print(df['ESTADOCIVIL'].unique())"
   ]
  },
  {
   "attachments": {},
   "cell_type": "markdown",
   "metadata": {},
   "source": [
    "# Formados"
   ]
  },
  {
   "cell_type": "code",
   "execution_count": 75,
   "metadata": {},
   "outputs": [
    {
     "data": {
      "text/plain": [
       "(3114, 28)"
      ]
     },
     "execution_count": 75,
     "metadata": {},
     "output_type": "execute_result"
    }
   ],
   "source": [
    "### DataFrame dos alunos que FORMARAM\n",
    "formados = df.query('STATUSFORMACAO == \"FORMADO\"')\n",
    "formados.shape"
   ]
  },
  {
   "cell_type": "code",
   "execution_count": 76,
   "metadata": {},
   "outputs": [
    {
     "name": "stdout",
     "output_type": "stream",
     "text": [
      "CURSO\n",
      "7      191\n",
      "23     112\n",
      "61      94\n",
      "59      94\n",
      "30      90\n",
      "      ... \n",
      "37       3\n",
      "43       3\n",
      "63       2\n",
      "422      1\n",
      "52       1\n",
      "Length: 94, dtype: int64\n"
     ]
    }
   ],
   "source": [
    "grouped_formados = formados.groupby(['CURSO']).size().sort_values(ascending=False)\n",
    "print(grouped_formados)"
   ]
  },
  {
   "attachments": {},
   "cell_type": "markdown",
   "metadata": {},
   "source": [
    "Os cursos que mais tiveram formados foram os 7, 23 e 61."
   ]
  },
  {
   "attachments": {},
   "cell_type": "markdown",
   "metadata": {},
   "source": [
    "# Evadidos"
   ]
  },
  {
   "cell_type": "code",
   "execution_count": 77,
   "metadata": {},
   "outputs": [
    {
     "data": {
      "text/plain": [
       "(9836, 28)"
      ]
     },
     "execution_count": 77,
     "metadata": {},
     "output_type": "execute_result"
    }
   ],
   "source": [
    "### DataFrame dos alunos que EVADIRAM\n",
    "evadidos = df.query('STATUSFORMACAO == \"EVADIDO\"')\n",
    "evadidos.shape"
   ]
  },
  {
   "cell_type": "code",
   "execution_count": 78,
   "metadata": {},
   "outputs": [
    {
     "data": {
      "text/plain": [
       "CURSO\n",
       "20     387\n",
       "25     312\n",
       "21     307\n",
       "242    289\n",
       "241    238\n",
       "      ... \n",
       "245     27\n",
       "49      27\n",
       "26      21\n",
       "244     21\n",
       "422     11\n",
       "Length: 94, dtype: int64"
      ]
     },
     "execution_count": 78,
     "metadata": {},
     "output_type": "execute_result"
    }
   ],
   "source": [
    "## Agrupamento - Evasão por Curso\n",
    "evadidos.groupby(['CURSO']).size().sort_values(ascending=False)"
   ]
  },
  {
   "attachments": {},
   "cell_type": "markdown",
   "metadata": {},
   "source": [
    "Os cursos que mais tiveram evasão foram os cursos 20, 25 e 21."
   ]
  },
  {
   "cell_type": "code",
   "execution_count": 79,
   "metadata": {},
   "outputs": [
    {
     "data": {
      "text/plain": [
       "SEXO\n",
       "M    5343\n",
       "F    4493\n",
       "dtype: int64"
      ]
     },
     "execution_count": 79,
     "metadata": {},
     "output_type": "execute_result"
    }
   ],
   "source": [
    "## Agrupamento - Evasão por Sexo\n",
    "evadidos.groupby(['SEXO']).size().sort_values(ascending=False)"
   ]
  },
  {
   "attachments": {},
   "cell_type": "markdown",
   "metadata": {},
   "source": [
    "Homens evadiram mais do que mulheres."
   ]
  },
  {
   "cell_type": "code",
   "execution_count": 80,
   "metadata": {},
   "outputs": [
    {
     "data": {
      "text/plain": [
       "COR\n",
       "NÃO DECLARADO    7104\n",
       "BRANCA           1299\n",
       "PARDA             929\n",
       "NEGRA             473\n",
       "AMARELA            21\n",
       "INDÍGENA           10\n",
       "dtype: int64"
      ]
     },
     "execution_count": 80,
     "metadata": {},
     "output_type": "execute_result"
    }
   ],
   "source": [
    "## Agrupamento - Evasão por Cor\n",
    "evadidos.groupby(['COR']).size().sort_values(ascending=False)"
   ]
  },
  {
   "cell_type": "code",
   "execution_count": 81,
   "metadata": {},
   "outputs": [
    {
     "data": {
      "text/plain": [
       "ACAOAFIRMATIVA\n",
       "AC    7712\n",
       "A1     578\n",
       "L2     570\n",
       "L4     548\n",
       "L1     235\n",
       "L3     193\n",
       "dtype: int64"
      ]
     },
     "execution_count": 81,
     "metadata": {},
     "output_type": "execute_result"
    }
   ],
   "source": [
    "## Agrupamento - Evasão por AC\n",
    "evadidos.groupby(['ACAOAFIRMATIVA']).size().sort_values(ascending=False)"
   ]
  },
  {
   "attachments": {},
   "cell_type": "markdown",
   "metadata": {},
   "source": [
    "Alunos da Ampla concorrência evadiram mais do que as outras categorias."
   ]
  },
  {
   "cell_type": "code",
   "execution_count": 82,
   "metadata": {},
   "outputs": [
    {
     "data": {
      "text/plain": [
       "TEMPOPERMANENCIA\n",
       "1.0    3332\n",
       "4.0    1905\n",
       "5.0    1748\n",
       "3.0    1103\n",
       "2.0    1032\n",
       "6.0     610\n",
       "7.0     106\n",
       "dtype: int64"
      ]
     },
     "execution_count": 82,
     "metadata": {},
     "output_type": "execute_result"
    }
   ],
   "source": [
    "## Agrupamento - Tempo de Permanência \n",
    "evadidos.groupby(['TEMPOPERMANENCIA']).size().sort_values(ascending=False)"
   ]
  },
  {
   "cell_type": "code",
   "execution_count": 112,
   "metadata": {},
   "outputs": [
    {
     "data": {
      "image/png": "[encoded data removed]",
      "text/plain": [
       "<Figure size 640x480 with 1 Axes>"
      ]
     },
     "metadata": {},
     "output_type": "display_data"
    }
   ],
   "source": [
    "media_tempopermanencia = sum(evadidos[\"CR\"]) / len(evadidos[\"CR\"])\n",
    "sns.boxplot(x=evadidos[\"TEMPOPERMANENCIA\"])\n",
    "plt.axvline(x=media_tempopermanencia, color='r', linestyle='--', label='Média')\n",
    "plt.title('Boxplot com Média')\n",
    "plt.show()"
   ]
  },
  {
   "cell_type": "code",
   "execution_count": 113,
   "metadata": {},
   "outputs": [
    {
     "data": {
      "image/png": "[encoded data removed]",
      "text/plain": [
       "<Figure size 640x480 with 1 Axes>"
      ]
     },
     "metadata": {},
     "output_type": "display_data"
    }
   ],
   "source": [
    "media = sum(evadidos[\"CR\"]) / len(evadidos[\"CR\"])\n",
    "sns.boxplot(x=evadidos[\"CR\"])\n",
    "plt.axvline(x=media, color='r', linestyle='--', label='Média')\n",
    "plt.title('Boxplot com Média')\n",
    "plt.show()"
   ]
  },
  {
   "cell_type": "code",
   "execution_count": 84,
   "metadata": {},
   "outputs": [
    {
     "data": {
      "text/plain": [
       "ESTADOCIVIL\n",
       "SOLTEIRO    9529\n",
       "CASADO       307\n",
       "dtype: int64"
      ]
     },
     "execution_count": 84,
     "metadata": {},
     "output_type": "execute_result"
    }
   ],
   "source": [
    "## Agrupamento - Estado Civil\n",
    "evadidos.groupby(['ESTADOCIVIL']).size().sort_values(ascending=False)"
   ]
  },
  {
   "attachments": {},
   "cell_type": "markdown",
   "metadata": {},
   "source": [
    "Solteiros Evadem mais do que casados."
   ]
  },
  {
   "cell_type": "code",
   "execution_count": 85,
   "metadata": {},
   "outputs": [
    {
     "data": {
      "text/plain": [
       "TURNOATUAL\n",
       "INTEGRAL      5607\n",
       "NOTURNO       3155\n",
       "MATUTINO       779\n",
       "VESPERTINO     281\n",
       "dtype: int64"
      ]
     },
     "execution_count": 85,
     "metadata": {},
     "output_type": "execute_result"
    }
   ],
   "source": [
    "## Agrupamento - Turno\n",
    "evadidos.groupby(['TURNOATUAL']).size().sort_values(ascending=False)"
   ]
  },
  {
   "attachments": {},
   "cell_type": "markdown",
   "metadata": {},
   "source": [
    "O turno com mais evasão foi o integral. Será que o CR pode indicar alguma coisa? Turno integral costuma ser mais difícil? A galera que evadiu do turno integral a maior parte era casada ou solteira?"
   ]
  },
  {
   "cell_type": "code",
   "execution_count": 86,
   "metadata": {},
   "outputs": [
    {
     "data": {
      "text/plain": [
       "(5607, 28)"
      ]
     },
     "execution_count": 86,
     "metadata": {},
     "output_type": "execute_result"
    }
   ],
   "source": [
    "turno_integral = evadidos.query('TURNOATUAL == \"INTEGRAL\"')\n",
    "turno_integral.shape"
   ]
  },
  {
   "cell_type": "code",
   "execution_count": 87,
   "metadata": {},
   "outputs": [
    {
     "data": {
      "text/html": [
       "<div>\n",
       "<style scoped>\n",
       "    .dataframe tbody tr th:only-of-type {\n",
       "        vertical-align: middle;\n",
       "    }\n",
       "\n",
       "    .dataframe tbody tr th {\n",
       "        vertical-align: top;\n",
       "    }\n",
       "\n",
       "    .dataframe thead th {\n",
       "        text-align: right;\n",
       "    }\n",
       "</style>\n",
       "<table border=\"1\" class=\"dataframe\">\n",
       "  <thead>\n",
       "    <tr style=\"text-align: right;\">\n",
       "      <th></th>\n",
       "      <th>ENEMLINGUAGEM</th>\n",
       "      <th>ENEMHUMANAS</th>\n",
       "      <th>ENEMNATURAIS</th>\n",
       "      <th>ENEMMATEMATICA</th>\n",
       "      <th>ENEMREDACAO</th>\n",
       "      <th>CR</th>\n",
       "      <th>ANODESVINCULACAO</th>\n",
       "      <th>IDADE</th>\n",
       "      <th>CHCURSADA</th>\n",
       "      <th>TEMPOPERMANENCIA</th>\n",
       "    </tr>\n",
       "  </thead>\n",
       "  <tbody>\n",
       "    <tr>\n",
       "      <th>count</th>\n",
       "      <td>5607.000000</td>\n",
       "      <td>5607.000000</td>\n",
       "      <td>5607.000000</td>\n",
       "      <td>5607.000000</td>\n",
       "      <td>5607.000000</td>\n",
       "      <td>5607.000000</td>\n",
       "      <td>5607.000000</td>\n",
       "      <td>5607.000000</td>\n",
       "      <td>5607.000000</td>\n",
       "      <td>5607.000000</td>\n",
       "    </tr>\n",
       "    <tr>\n",
       "      <th>mean</th>\n",
       "      <td>599.077368</td>\n",
       "      <td>639.973569</td>\n",
       "      <td>593.928554</td>\n",
       "      <td>682.559140</td>\n",
       "      <td>725.419119</td>\n",
       "      <td>3.659681</td>\n",
       "      <td>2015.275905</td>\n",
       "      <td>26.079543</td>\n",
       "      <td>419.544498</td>\n",
       "      <td>2.995363</td>\n",
       "    </tr>\n",
       "    <tr>\n",
       "      <th>std</th>\n",
       "      <td>52.656725</td>\n",
       "      <td>66.257285</td>\n",
       "      <td>68.537164</td>\n",
       "      <td>92.813035</td>\n",
       "      <td>130.695889</td>\n",
       "      <td>2.712016</td>\n",
       "      <td>1.772273</td>\n",
       "      <td>5.767875</td>\n",
       "      <td>519.920909</td>\n",
       "      <td>1.721922</td>\n",
       "    </tr>\n",
       "    <tr>\n",
       "      <th>min</th>\n",
       "      <td>286.500000</td>\n",
       "      <td>327.300000</td>\n",
       "      <td>273.100000</td>\n",
       "      <td>327.500000</td>\n",
       "      <td>140.000000</td>\n",
       "      <td>0.000000</td>\n",
       "      <td>2012.000000</td>\n",
       "      <td>21.000000</td>\n",
       "      <td>0.000000</td>\n",
       "      <td>1.000000</td>\n",
       "    </tr>\n",
       "    <tr>\n",
       "      <th>25%</th>\n",
       "      <td>571.000000</td>\n",
       "      <td>600.100000</td>\n",
       "      <td>554.050000</td>\n",
       "      <td>627.000000</td>\n",
       "      <td>640.000000</td>\n",
       "      <td>1.200000</td>\n",
       "      <td>2014.000000</td>\n",
       "      <td>23.000000</td>\n",
       "      <td>32.000000</td>\n",
       "      <td>1.000000</td>\n",
       "    </tr>\n",
       "    <tr>\n",
       "      <th>50%</th>\n",
       "      <td>603.700000</td>\n",
       "      <td>645.700000</td>\n",
       "      <td>598.800000</td>\n",
       "      <td>689.200000</td>\n",
       "      <td>720.000000</td>\n",
       "      <td>3.600000</td>\n",
       "      <td>2015.000000</td>\n",
       "      <td>24.000000</td>\n",
       "      <td>252.000000</td>\n",
       "      <td>3.000000</td>\n",
       "    </tr>\n",
       "    <tr>\n",
       "      <th>75%</th>\n",
       "      <td>633.500000</td>\n",
       "      <td>685.400000</td>\n",
       "      <td>639.900000</td>\n",
       "      <td>747.450000</td>\n",
       "      <td>820.000000</td>\n",
       "      <td>5.800000</td>\n",
       "      <td>2017.000000</td>\n",
       "      <td>26.000000</td>\n",
       "      <td>600.000000</td>\n",
       "      <td>4.000000</td>\n",
       "    </tr>\n",
       "    <tr>\n",
       "      <th>max</th>\n",
       "      <td>786.000000</td>\n",
       "      <td>885.500000</td>\n",
       "      <td>802.600000</td>\n",
       "      <td>942.600000</td>\n",
       "      <td>1000.000000</td>\n",
       "      <td>10.000000</td>\n",
       "      <td>2018.000000</td>\n",
       "      <td>64.000000</td>\n",
       "      <td>6070.000000</td>\n",
       "      <td>7.000000</td>\n",
       "    </tr>\n",
       "  </tbody>\n",
       "</table>\n",
       "</div>"
      ],
      "text/plain": [
       "       ENEMLINGUAGEM  ENEMHUMANAS  ENEMNATURAIS  ENEMMATEMATICA  ENEMREDACAO  \\\n",
       "count    5607.000000  5607.000000   5607.000000     5607.000000  5607.000000   \n",
       "mean      599.077368   639.973569    593.928554      682.559140   725.419119   \n",
       "std        52.656725    66.257285     68.537164       92.813035   130.695889   \n",
       "min       286.500000   327.300000    273.100000      327.500000   140.000000   \n",
       "25%       571.000000   600.100000    554.050000      627.000000   640.000000   \n",
       "50%       603.700000   645.700000    598.800000      689.200000   720.000000   \n",
       "75%       633.500000   685.400000    639.900000      747.450000   820.000000   \n",
       "max       786.000000   885.500000    802.600000      942.600000  1000.000000   \n",
       "\n",
       "                CR  ANODESVINCULACAO        IDADE    CHCURSADA  \\\n",
       "count  5607.000000       5607.000000  5607.000000  5607.000000   \n",
       "mean      3.659681       2015.275905    26.079543   419.544498   \n",
       "std       2.712016          1.772273     5.767875   519.920909   \n",
       "min       0.000000       2012.000000    21.000000     0.000000   \n",
       "25%       1.200000       2014.000000    23.000000    32.000000   \n",
       "50%       3.600000       2015.000000    24.000000   252.000000   \n",
       "75%       5.800000       2017.000000    26.000000   600.000000   \n",
       "max      10.000000       2018.000000    64.000000  6070.000000   \n",
       "\n",
       "       TEMPOPERMANENCIA  \n",
       "count       5607.000000  \n",
       "mean           2.995363  \n",
       "std            1.721922  \n",
       "min            1.000000  \n",
       "25%            1.000000  \n",
       "50%            3.000000  \n",
       "75%            4.000000  \n",
       "max            7.000000  "
      ]
     },
     "execution_count": 87,
     "metadata": {},
     "output_type": "execute_result"
    }
   ],
   "source": [
    "turno_integral.describe()"
   ]
  },
  {
   "cell_type": "code",
   "execution_count": 88,
   "metadata": {},
   "outputs": [
    {
     "data": {
      "text/plain": [
       "<Axes: xlabel='CR'>"
      ]
     },
     "execution_count": 88,
     "metadata": {},
     "output_type": "execute_result"
    },
    {
     "data": {
      "image/png": "[encoded data removed]",
      "text/plain": [
       "<Figure size 640x480 with 1 Axes>"
      ]
     },
     "metadata": {},
     "output_type": "display_data"
    }
   ],
   "source": [
    "sns.boxplot(x=turno_integral[\"CR\"])"
   ]
  },
  {
   "cell_type": "code",
   "execution_count": 92,
   "metadata": {},
   "outputs": [
    {
     "data": {
      "image/png": "[encoded data removed]",
      "text/plain": [
       "<Figure size 640x480 with 1 Axes>"
      ]
     },
     "metadata": {},
     "output_type": "display_data"
    }
   ],
   "source": [
    "media = sum(turno_integral[\"CR\"]) / len(turno_integral[\"CR\"])\n",
    "sns.boxplot(x=turno_integral[\"CR\"])\n",
    "plt.axvline(x=media, color='r', linestyle='--', label='Média')\n",
    "plt.title('Boxplot com Média')\n",
    "plt.show()"
   ]
  },
  {
   "cell_type": "code",
   "execution_count": 96,
   "metadata": {},
   "outputs": [
    {
     "data": {
      "text/plain": [
       "Index(['CODALUNO', 'ACAOAFIRMATIVA', 'ENEMLINGUAGEM', 'ENEMHUMANAS',\n",
       "       'ENEMNATURAIS', 'ENEMMATEMATICA', 'ENEMREDACAO', 'CURSO',\n",
       "       'CODTURNOINGRESSO', 'CODTURNOATUAL', 'TURNOATUAL', 'CR', 'ANOINGRESSO',\n",
       "       'SEMESTREINGRESSO', 'ANODESVINCULACAO', 'SEMESTREDESVINCULACAO',\n",
       "       'IDADE', 'COR', 'BAIRRO', 'CEP', 'CIDADE', 'MOBILIDADE', 'CHCURSADA',\n",
       "       'ESTADOCIVIL', 'TRANCAMENTOS', 'TEMPOPERMANENCIA', 'SEXO',\n",
       "       'STATUSFORMACAO'],\n",
       "      dtype='object')"
      ]
     },
     "execution_count": 96,
     "metadata": {},
     "output_type": "execute_result"
    }
   ],
   "source": [
    "turno_integral.columns"
   ]
  },
  {
   "cell_type": "code",
   "execution_count": 94,
   "metadata": {},
   "outputs": [
    {
     "data": {
      "text/plain": [
       "SEXO\n",
       "M    2946\n",
       "F    2661\n",
       "dtype: int64"
      ]
     },
     "execution_count": 94,
     "metadata": {},
     "output_type": "execute_result"
    }
   ],
   "source": [
    "turno_integral.groupby(['SEXO']).size().sort_values(ascending=False)"
   ]
  },
  {
   "cell_type": "code",
   "execution_count": 101,
   "metadata": {},
   "outputs": [
    {
     "data": {
      "text/plain": [
       "ESTADOCIVIL\n",
       "SOLTEIRO    5501\n",
       "CASADO       106\n",
       "dtype: int64"
      ]
     },
     "execution_count": 101,
     "metadata": {},
     "output_type": "execute_result"
    }
   ],
   "source": [
    "turno_integral.groupby(['ESTADOCIVIL']).size().sort_values(ascending=False)"
   ]
  },
  {
   "cell_type": "code",
   "execution_count": 98,
   "metadata": {},
   "outputs": [
    {
     "data": {
      "text/plain": [
       "IDADE\n",
       "24.0    1268\n",
       "23.0    1266\n",
       "25.0     674\n",
       "22.0     588\n",
       "26.0     408\n",
       "27.0     275\n",
       "28.0     178\n",
       "29.0     141\n",
       "30.0     108\n",
       "31.0      83\n",
       "33.0      72\n",
       "32.0      71\n",
       "35.0      50\n",
       "21.0      43\n",
       "37.0      40\n",
       "34.0      39\n",
       "39.0      30\n",
       "36.0      29\n",
       "38.0      27\n",
       "42.0      19\n",
       "45.0      17\n",
       "41.0      16\n",
       "50.0      13\n",
       "47.0      12\n",
       "52.0      11\n",
       "43.0      11\n",
       "44.0      10\n",
       "40.0      10\n",
       "46.0       9\n",
       "49.0       9\n",
       "51.0       9\n",
       "54.0       9\n",
       "55.0       9\n",
       "53.0       8\n",
       "48.0       8\n",
       "62.0       7\n",
       "56.0       7\n",
       "60.0       6\n",
       "57.0       5\n",
       "63.0       4\n",
       "59.0       3\n",
       "58.0       2\n",
       "64.0       2\n",
       "61.0       1\n",
       "dtype: int64"
      ]
     },
     "execution_count": 98,
     "metadata": {},
     "output_type": "execute_result"
    }
   ],
   "source": [
    "turno_integral.groupby(['IDADE']).size().sort_values(ascending=False)"
   ]
  },
  {
   "cell_type": "code",
   "execution_count": 42,
   "metadata": {},
   "outputs": [
    {
     "data": {
      "text/plain": [
       "CHCURSADA\n",
       "0.0       2571\n",
       "60.0       521\n",
       "300.0      372\n",
       "240.0      304\n",
       "180.0      280\n",
       "          ... \n",
       "1024.0       1\n",
       "1022.0       1\n",
       "1019.0       1\n",
       "1013.0       1\n",
       "6070.0       1\n",
       "Length: 1007, dtype: int64"
      ]
     },
     "execution_count": 42,
     "metadata": {},
     "output_type": "execute_result"
    }
   ],
   "source": [
    "## Agrupamento - Carga Horária Cursada\n",
    "evadidos.groupby(['CHCURSADA']).size().sort_values(ascending=False)"
   ]
  },
  {
   "cell_type": "code",
   "execution_count": 50,
   "metadata": {},
   "outputs": [
    {
     "data": {
      "text/plain": [
       "ANOINGRESSO\n",
       "2013    4097\n",
       "2014    4034\n",
       "2012    1705\n",
       "dtype: int64"
      ]
     },
     "execution_count": 50,
     "metadata": {},
     "output_type": "execute_result"
    }
   ],
   "source": [
    "## Agrupamento - Ano Ingresso\n",
    "evadidos.groupby(['ANOINGRESSO']).size().sort_values(ascending=False)\n"
   ]
  },
  {
   "cell_type": "code",
   "execution_count": 43,
   "metadata": {},
   "outputs": [
    {
     "data": {
      "text/html": [
       "<div>\n",
       "<style scoped>\n",
       "    .dataframe tbody tr th:only-of-type {\n",
       "        vertical-align: middle;\n",
       "    }\n",
       "\n",
       "    .dataframe tbody tr th {\n",
       "        vertical-align: top;\n",
       "    }\n",
       "\n",
       "    .dataframe thead th {\n",
       "        text-align: right;\n",
       "    }\n",
       "</style>\n",
       "<table border=\"1\" class=\"dataframe\">\n",
       "  <thead>\n",
       "    <tr style=\"text-align: right;\">\n",
       "      <th></th>\n",
       "      <th>ENEMLINGUAGEM</th>\n",
       "      <th>ENEMHUMANAS</th>\n",
       "      <th>ENEMNATURAIS</th>\n",
       "      <th>ENEMMATEMATICA</th>\n",
       "      <th>ENEMREDACAO</th>\n",
       "      <th>CR</th>\n",
       "      <th>ANODESVINCULACAO</th>\n",
       "      <th>IDADE</th>\n",
       "      <th>CHCURSADA</th>\n",
       "      <th>TEMPOPERMANENCIA</th>\n",
       "    </tr>\n",
       "  </thead>\n",
       "  <tbody>\n",
       "    <tr>\n",
       "      <th>count</th>\n",
       "      <td>9836.000000</td>\n",
       "      <td>9836.000000</td>\n",
       "      <td>9836.000000</td>\n",
       "      <td>9836.000000</td>\n",
       "      <td>9836.000000</td>\n",
       "      <td>9836.000000</td>\n",
       "      <td>9836.000000</td>\n",
       "      <td>9836.000000</td>\n",
       "      <td>9836.000000</td>\n",
       "      <td>9836.000000</td>\n",
       "    </tr>\n",
       "    <tr>\n",
       "      <th>mean</th>\n",
       "      <td>592.826474</td>\n",
       "      <td>631.829046</td>\n",
       "      <td>579.529880</td>\n",
       "      <td>664.854168</td>\n",
       "      <td>707.764843</td>\n",
       "      <td>3.506476</td>\n",
       "      <td>2015.232615</td>\n",
       "      <td>27.190525</td>\n",
       "      <td>379.498373</td>\n",
       "      <td>2.995832</td>\n",
       "    </tr>\n",
       "    <tr>\n",
       "      <th>std</th>\n",
       "      <td>56.995818</td>\n",
       "      <td>71.670834</td>\n",
       "      <td>71.169209</td>\n",
       "      <td>98.845579</td>\n",
       "      <td>134.614623</td>\n",
       "      <td>2.749451</td>\n",
       "      <td>1.819227</td>\n",
       "      <td>6.850402</td>\n",
       "      <td>483.185861</td>\n",
       "      <td>1.759362</td>\n",
       "    </tr>\n",
       "    <tr>\n",
       "      <th>min</th>\n",
       "      <td>100.000000</td>\n",
       "      <td>0.000000</td>\n",
       "      <td>0.000000</td>\n",
       "      <td>100.000000</td>\n",
       "      <td>100.000000</td>\n",
       "      <td>0.000000</td>\n",
       "      <td>2012.000000</td>\n",
       "      <td>21.000000</td>\n",
       "      <td>0.000000</td>\n",
       "      <td>1.000000</td>\n",
       "    </tr>\n",
       "    <tr>\n",
       "      <th>25%</th>\n",
       "      <td>563.375000</td>\n",
       "      <td>589.100000</td>\n",
       "      <td>538.300000</td>\n",
       "      <td>606.975000</td>\n",
       "      <td>620.000000</td>\n",
       "      <td>0.800000</td>\n",
       "      <td>2014.000000</td>\n",
       "      <td>23.000000</td>\n",
       "      <td>0.000000</td>\n",
       "      <td>1.000000</td>\n",
       "    </tr>\n",
       "    <tr>\n",
       "      <th>50%</th>\n",
       "      <td>598.900000</td>\n",
       "      <td>638.700000</td>\n",
       "      <td>585.100000</td>\n",
       "      <td>673.750000</td>\n",
       "      <td>720.000000</td>\n",
       "      <td>3.400000</td>\n",
       "      <td>2015.000000</td>\n",
       "      <td>25.000000</td>\n",
       "      <td>240.000000</td>\n",
       "      <td>3.000000</td>\n",
       "    </tr>\n",
       "    <tr>\n",
       "      <th>75%</th>\n",
       "      <td>630.225000</td>\n",
       "      <td>681.000000</td>\n",
       "      <td>627.400000</td>\n",
       "      <td>733.200000</td>\n",
       "      <td>800.000000</td>\n",
       "      <td>5.602500</td>\n",
       "      <td>2017.000000</td>\n",
       "      <td>28.000000</td>\n",
       "      <td>540.000000</td>\n",
       "      <td>5.000000</td>\n",
       "    </tr>\n",
       "    <tr>\n",
       "      <th>max</th>\n",
       "      <td>786.000000</td>\n",
       "      <td>885.500000</td>\n",
       "      <td>845.200000</td>\n",
       "      <td>955.200000</td>\n",
       "      <td>1000.000000</td>\n",
       "      <td>10.000000</td>\n",
       "      <td>2018.000000</td>\n",
       "      <td>64.000000</td>\n",
       "      <td>6070.000000</td>\n",
       "      <td>7.000000</td>\n",
       "    </tr>\n",
       "  </tbody>\n",
       "</table>\n",
       "</div>"
      ],
      "text/plain": [
       "       ENEMLINGUAGEM  ENEMHUMANAS  ENEMNATURAIS  ENEMMATEMATICA  ENEMREDACAO  \\\n",
       "count    9836.000000  9836.000000   9836.000000     9836.000000  9836.000000   \n",
       "mean      592.826474   631.829046    579.529880      664.854168   707.764843   \n",
       "std        56.995818    71.670834     71.169209       98.845579   134.614623   \n",
       "min       100.000000     0.000000      0.000000      100.000000   100.000000   \n",
       "25%       563.375000   589.100000    538.300000      606.975000   620.000000   \n",
       "50%       598.900000   638.700000    585.100000      673.750000   720.000000   \n",
       "75%       630.225000   681.000000    627.400000      733.200000   800.000000   \n",
       "max       786.000000   885.500000    845.200000      955.200000  1000.000000   \n",
       "\n",
       "                CR  ANODESVINCULACAO        IDADE    CHCURSADA  \\\n",
       "count  9836.000000       9836.000000  9836.000000  9836.000000   \n",
       "mean      3.506476       2015.232615    27.190525   379.498373   \n",
       "std       2.749451          1.819227     6.850402   483.185861   \n",
       "min       0.000000       2012.000000    21.000000     0.000000   \n",
       "25%       0.800000       2014.000000    23.000000     0.000000   \n",
       "50%       3.400000       2015.000000    25.000000   240.000000   \n",
       "75%       5.602500       2017.000000    28.000000   540.000000   \n",
       "max      10.000000       2018.000000    64.000000  6070.000000   \n",
       "\n",
       "       TEMPOPERMANENCIA  \n",
       "count       9836.000000  \n",
       "mean           2.995832  \n",
       "std            1.759362  \n",
       "min            1.000000  \n",
       "25%            1.000000  \n",
       "50%            3.000000  \n",
       "75%            5.000000  \n",
       "max            7.000000  "
      ]
     },
     "execution_count": 43,
     "metadata": {},
     "output_type": "execute_result"
    }
   ],
   "source": [
    "evadidos.describe()"
   ]
  },
  {
   "cell_type": "code",
   "execution_count": 44,
   "metadata": {},
   "outputs": [
    {
     "data": {
      "text/plain": [
       "2018.0"
      ]
     },
     "execution_count": 44,
     "metadata": {},
     "output_type": "execute_result"
    }
   ],
   "source": [
    "evadidos['ANODESVINCULACAO'].max()"
   ]
  },
  {
   "cell_type": "code",
   "execution_count": 115,
   "metadata": {},
   "outputs": [
    {
     "name": "stdout",
     "output_type": "stream",
     "text": [
      "0.3677681584745719\n"
     ]
    }
   ],
   "source": [
    "correlacao = evadidos['TEMPOPERMANENCIA'].corr(evadidos['CR'])\n",
    "print(correlacao)"
   ]
  },
  {
   "attachments": {},
   "cell_type": "markdown",
   "metadata": {},
   "source": [
    "Correlação fraca. No caso específico do coeficiente de correlação 0.3688, ele está mais próximo de 0 do que de -1 ou 1, indicando uma correlação fraca. Isso significa que existe uma relação, mas ela não é muito forte."
   ]
  },
  {
   "cell_type": "code",
   "execution_count": 116,
   "metadata": {},
   "outputs": [
    {
     "name": "stdout",
     "output_type": "stream",
     "text": [
      "0.5888844513529359\n"
     ]
    }
   ],
   "source": [
    "correlacao = evadidos['CHCURSADA'].corr(evadidos['CR'])\n",
    "print(correlacao)"
   ]
  },
  {
   "cell_type": "code",
   "execution_count": 117,
   "metadata": {},
   "outputs": [
    {
     "name": "stdout",
     "output_type": "stream",
     "text": [
      "0.5083540929200651\n"
     ]
    }
   ],
   "source": [
    "correlacao = evadidos['TEMPOPERMANENCIA'].corr(evadidos['CHCURSADA'])\n",
    "print(correlacao)"
   ]
  },
  {
   "cell_type": "code",
   "execution_count": 118,
   "metadata": {},
   "outputs": [
    {
     "name": "stdout",
     "output_type": "stream",
     "text": [
      "-0.1435484468875395\n"
     ]
    }
   ],
   "source": [
    "correlacao = evadidos['IDADE'].corr(evadidos['CR'])\n",
    "print(correlacao)"
   ]
  }
 ],
 "metadata": {
  "kernelspec": {
   "display_name": "base",
   "language": "python",
   "name": "python3"
  },
  "language_info": {
   "codemirror_mode": {
    "name": "ipython",
    "version": 3
   },
   "file_extension": ".py",
   "mimetype": "text/x-python",
   "name": "python",
   "nbconvert_exporter": "python",
   "pygments_lexer": "ipython3",
   "version": "3.10.9"
  },
  "orig_nbformat": 4
 },
 "nbformat": 4,
 "nbformat_minor": 2
}
