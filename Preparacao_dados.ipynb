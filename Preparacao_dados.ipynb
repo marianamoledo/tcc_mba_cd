{
 "cells": [
  {
   "cell_type": "code",
   "execution_count": 2,
   "metadata": {},
   "outputs": [],
   "source": [
    "import pandas as pd"
   ]
  },
  {
   "cell_type": "code",
   "execution_count": 3,
   "metadata": {},
   "outputs": [
    {
     "data": {
      "text/plain": [
       "(281431, 32)"
      ]
     },
     "execution_count": 3,
     "metadata": {},
     "output_type": "execute_result"
    }
   ],
   "source": [
    "df = pd.read_excel ('C:/Users/Mariana Moledo/Documents/GitHub/tcc_mba_cd/datasets/Dataset-UFF-Graduacao.xlsx')\n",
    "df.shape"
   ]
  },
  {
   "cell_type": "code",
   "execution_count": 4,
   "metadata": {},
   "outputs": [
    {
     "data": {
      "text/plain": [
       "Index(['CODALUNO', 'ACAOAFIRMATIVA', 'ENEMLINGUAGEM', 'ENEMHUMANAS',\n",
       "       'ENEMNATURAIS', 'ENEMMATEMATICA', 'ENEMREDACAO', 'CURSO',\n",
       "       'CODTURNOINGRESSO', 'CODTURNOATUAL', 'TURNOATUAL', 'CR', 'DISCIPLINA',\n",
       "       'NOTADISC', 'RESULTDISC', 'PERIODODISC', 'ANOINGRESSO',\n",
       "       'SEMESTREINGRESSO', 'ANODESVINCULACAO', 'SEMESTREDESVINCULACAO',\n",
       "       'IDADE', 'COR', 'BAIRRO', 'CEP', 'CIDADE', 'MOBILIDADE', 'CHCURSADA',\n",
       "       'ESTADOCIVIL', 'TRANCAMENTOS', 'TEMPOPERMANENCIA', 'SEXO',\n",
       "       'STATUSFORMACAO'],\n",
       "      dtype='object')"
      ]
     },
     "execution_count": 4,
     "metadata": {},
     "output_type": "execute_result"
    }
   ],
   "source": [
    "df.columns"
   ]
  },
  {
   "cell_type": "code",
   "execution_count": 5,
   "metadata": {},
   "outputs": [
    {
     "data": {
      "text/plain": [
       "(281430, 32)"
      ]
     },
     "execution_count": 5,
     "metadata": {},
     "output_type": "execute_result"
    }
   ],
   "source": [
    "# Filtragem de Dados\n",
    "df = df.query('ACAOAFIRMATIVA != \"ACAOAFIRMATIVA\"')\n",
    "df.shape"
   ]
  },
  {
   "cell_type": "code",
   "execution_count": 6,
   "metadata": {},
   "outputs": [
    {
     "data": {
      "text/plain": [
       "(119617, 32)"
      ]
     },
     "execution_count": 6,
     "metadata": {},
     "output_type": "execute_result"
    }
   ],
   "source": [
    "# Filtragem por Status de Formação\n",
    "df_evadidos = df.query('STATUSFORMACAO == \"EVADIDO\"')\n",
    "df_evadidos.shape"
   ]
  },
  {
   "cell_type": "code",
   "execution_count": 7,
   "metadata": {},
   "outputs": [
    {
     "data": {
      "text/plain": [
       "(9836, 32)"
      ]
     },
     "execution_count": 7,
     "metadata": {},
     "output_type": "execute_result"
    }
   ],
   "source": [
    "# Remoção de Duplicatas\n",
    "df_sem_duplicatas = df_evadidos.drop_duplicates(subset='CODALUNO')\n",
    "df_sem_duplicatas.shape"
   ]
  },
  {
   "cell_type": "markdown",
   "metadata": {},
   "source": [
    "Um dos nossos objetivos é calcular a distância do cep de origem do aluno até o endereço do polo do curso. Nosso objetivo principal é entender se a distância pode também ter influenciado na evasão do aluno.\n",
    "Para isso, Precisaremos pegar o cep da localidade de cada curso. Utilizaremos o endereço do seguinte link:\n",
    "https://www.uff.br/?q=cursos-dados-completos&field_turno_value=All&field_titulacao_curso_value=All&field_tipo_de_curso_value=All&field_sigla_value=&field_c_digo_e_mec_value="
   ]
  },
  {
   "cell_type": "code",
   "execution_count": 8,
   "metadata": {},
   "outputs": [],
   "source": [
    "# Leitura de Outro Arquivo Excel (Cursos)\n",
    "\n",
    "# Carregue o DataFrame df_cursos_iduff\n",
    "df_cursos_iduff = pd.read_excel(\"C:/Users/Mariana Moledo/Documents/GitHub/tcc_mba_cd/datasets/CURSOS_IDUFF.xlsx\")\n",
    "df_cursos_iduff = df_cursos_iduff.rename(columns={\"IDCURSO\": \"CURSO\", \"NOME\": \"NOME_CURSO\"})\n",
    "df_cursos_iduff = df_cursos_iduff[['CURSO', 'NOME_CURSO']]\n",
    "df_cursos_iduff['NOME_CURSO'] = df_cursos_iduff['NOME_CURSO'].str.upper()\n",
    "\n",
    "# Mesclar os DataFrames usando a coluna 'CURSO' como chave de junção\n",
    "df_join_cursos_iduff = df_sem_duplicatas.merge(df_cursos_iduff, on='CURSO')"
   ]
  },
  {
   "cell_type": "code",
   "execution_count": 9,
   "metadata": {},
   "outputs": [],
   "source": [
    "# Leitura de Arquivo CSV (CEPs de Destino)\n",
    "df_ceps_destino = pd.read_csv(\"C:/Users/Mariana Moledo/Documents/GitHub/tcc_mba_cd/datasets/cep_destino_cursos.csv\",sep=';', encoding='latin-1')"
   ]
  },
  {
   "cell_type": "code",
   "execution_count": 10,
   "metadata": {},
   "outputs": [
    {
     "data": {
      "text/plain": [
       "(9144, 34)"
      ]
     },
     "execution_count": 10,
     "metadata": {},
     "output_type": "execute_result"
    }
   ],
   "source": [
    "#Mesclagem com CEPs de Destino\n",
    "df_join_cep_destino = df_join_cursos_iduff.merge(df_ceps_destino, on='NOME_CURSO')\n",
    "df_join_cep_destino.columns\n",
    "df_join_cep_destino.shape"
   ]
  },
  {
   "cell_type": "code",
   "execution_count": 11,
   "metadata": {},
   "outputs": [],
   "source": [
    "# Leitura de Outro Arquivo CSV (Classificação de Cursos)\n",
    "df_curso = pd.read_csv(\"C:/Users/Mariana Moledo/Documents/GitHub/tcc_mba_cd/datasets/Classificacao_cursos.csv\",sep=';', encoding='latin-1')"
   ]
  },
  {
   "cell_type": "code",
   "execution_count": 12,
   "metadata": {},
   "outputs": [],
   "source": [
    "# Mesclagem com Informações de Curso\n",
    "# Utilizamos como base a classificação do arquivo http://www.coseac.uff.br/trm/2022/Arquivos/UFF-TRM2022-Anexo-14-Grupos.pdf\n",
    "df_join_area_curso = df_join_cep_destino.merge(df_curso, on='NOME_CURSO')\n",
    "df_join_area_curso = df_join_area_curso.rename(columns={\"Classificação\":\"AREACURSO\"})"
   ]
  },
  {
   "cell_type": "code",
   "execution_count": 13,
   "metadata": {},
   "outputs": [
    {
     "data": {
      "text/plain": [
       "Index(['CODALUNO', 'ACAOAFIRMATIVA', 'ENEMLINGUAGEM', 'ENEMHUMANAS',\n",
       "       'ENEMNATURAIS', 'ENEMMATEMATICA', 'ENEMREDACAO', 'CURSO',\n",
       "       'CODTURNOINGRESSO', 'CODTURNOATUAL', 'TURNOATUAL', 'CR', 'DISCIPLINA',\n",
       "       'NOTADISC', 'RESULTDISC', 'PERIODODISC', 'ANOINGRESSO',\n",
       "       'SEMESTREINGRESSO', 'ANODESVINCULACAO', 'SEMESTREDESVINCULACAO',\n",
       "       'IDADE', 'COR', 'BAIRRO', 'CEP', 'CIDADE', 'MOBILIDADE', 'CHCURSADA',\n",
       "       'ESTADOCIVIL', 'TRANCAMENTOS', 'TEMPOPERMANENCIA', 'SEXO',\n",
       "       'STATUSFORMACAO', 'NOME_CURSO', 'cep_destino', 'AREACURSO'],\n",
       "      dtype='object')"
      ]
     },
     "execution_count": 13,
     "metadata": {},
     "output_type": "execute_result"
    }
   ],
   "source": [
    "# Manipulação de CEPs\n",
    "# Contando o comprimento de cada valor na coluna\n",
    "df_join_area_curso['comprimento'] = df_join_area_curso['CEP'].astype(str).str.len()\n",
    "\n",
    "# Selecionando as linhas onde 'comprimento' é igual a 8\n",
    "df_ceps_validos = df_join_area_curso[df_join_area_curso['comprimento'] == 8]\n",
    "\n",
    "# Removendo a coluna 'comprimento' do df\n",
    "del df_join_area_curso['comprimento']\n",
    "df_ceps_validos.shape\n",
    "\n",
    "#Renomeação e Criação de DataFrame Geral: \n",
    "df_geral = df_join_area_curso \n",
    "df_geral.columns"
   ]
  },
  {
   "cell_type": "code",
   "execution_count": 14,
   "metadata": {},
   "outputs": [
    {
     "data": {
      "text/plain": [
       "(1866, 36)"
      ]
     },
     "execution_count": 14,
     "metadata": {},
     "output_type": "execute_result"
    }
   ],
   "source": [
    "df_ceps_validos.shape"
   ]
  },
  {
   "cell_type": "markdown",
   "metadata": {},
   "source": [
    "Agora temos 2 Dataframes: df_ceps_validos e df_geral.\n",
    "df_ceps_validos possui somente os alunos que tem o CEP válido.\n",
    "df_geral todos os alunos que evadiram (independente do CEP).\n",
    "Vamos calcular a distância do cep de origem do aluno até o endereço do polo do curso dos alunos que tem cep válido. Isso é feito no arquivo Distancia_API_Google.py"
   ]
  },
  {
   "cell_type": "code",
   "execution_count": 15,
   "metadata": {},
   "outputs": [],
   "source": [
    "# Leitura de Outro Arquivo CSV (aqui já com as distâncias dos alunos com CEPs validos calculadas pela API do Google)\n",
    "# Caso você ainda não tenha rodado a API do Google, essa etapa deve ser subsituída pelo calculo utilizando a API\n",
    "df_com_distancia = pd.read_excel(\"C:/Users/Mariana Moledo/Documents/GitHub/tcc_mba_cd/datasets/Dataset-UFF-Graduacao-Evadidos-CEPs_Validos.xlsx\")"
   ]
  },
  {
   "cell_type": "code",
   "execution_count": 16,
   "metadata": {},
   "outputs": [
    {
     "data": {
      "text/plain": [
       "Index(['CODALUNO', 'DISTANCIA_NUM'], dtype='object')"
      ]
     },
     "execution_count": 16,
     "metadata": {},
     "output_type": "execute_result"
    }
   ],
   "source": [
    "# Selecionando colunas específicas\n",
    "DF_DISTANCIA_CALCULADA = df_com_distancia[['CODALUNO','DISTANCIA_NUM']]\n",
    "DF_DISTANCIA_CALCULADA.columns\n"
   ]
  },
  {
   "cell_type": "code",
   "execution_count": 17,
   "metadata": {},
   "outputs": [
    {
     "data": {
      "text/plain": [
       "Index(['CODALUNO', 'ACAOAFIRMATIVA', 'ENEMLINGUAGEM', 'ENEMHUMANAS',\n",
       "       'ENEMNATURAIS', 'ENEMMATEMATICA', 'ENEMREDACAO', 'CURSO',\n",
       "       'CODTURNOINGRESSO', 'CODTURNOATUAL', 'TURNOATUAL', 'CR', 'DISCIPLINA',\n",
       "       'NOTADISC', 'RESULTDISC', 'PERIODODISC', 'ANOINGRESSO',\n",
       "       'SEMESTREINGRESSO', 'ANODESVINCULACAO', 'SEMESTREDESVINCULACAO',\n",
       "       'IDADE', 'COR', 'BAIRRO', 'CEP', 'CIDADE', 'MOBILIDADE', 'CHCURSADA',\n",
       "       'ESTADOCIVIL', 'TRANCAMENTOS', 'TEMPOPERMANENCIA', 'SEXO',\n",
       "       'STATUSFORMACAO', 'NOME_CURSO', 'cep_destino', 'AREACURSO',\n",
       "       'DISTANCIA_NUM'],\n",
       "      dtype='object')"
      ]
     },
     "execution_count": 17,
     "metadata": {},
     "output_type": "execute_result"
    }
   ],
   "source": [
    "# Mesclagem com Informações de distância\n",
    "\n",
    "df_geral = df_geral.merge(DF_DISTANCIA_CALCULADA, on='CODALUNO', how='left')\n",
    "df_geral.columns"
   ]
  },
  {
   "cell_type": "code",
   "execution_count": 18,
   "metadata": {},
   "outputs": [],
   "source": [
    "# Salvando em um arquivo CSV a base principal tratada\n",
    "df_geral.to_csv(\"bd_alunos_evadidos.csv\", sep=\";\")"
   ]
  }
 ],
 "metadata": {
  "kernelspec": {
   "display_name": "base",
   "language": "python",
   "name": "python3"
  },
  "language_info": {
   "codemirror_mode": {
    "name": "ipython",
    "version": 3
   },
   "file_extension": ".py",
   "mimetype": "text/x-python",
   "name": "python",
   "nbconvert_exporter": "python",
   "pygments_lexer": "ipython3",
   "version": "3.10.9"
  },
  "orig_nbformat": 4
 },
 "nbformat": 4,
 "nbformat_minor": 2
}
